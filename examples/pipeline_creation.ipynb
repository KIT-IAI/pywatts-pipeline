{
 "cells": [
  {
   "cell_type": "markdown",
   "source": [
    "# Create a Pipeline\n",
    "We provide three ways of creating a pipeline.\n",
    "* Functional API\n",
    "* Imperative API\n",
    "* Constructor API\n",
    "\n",
    "In the following, we briefly describe all three APIs."
   ],
   "metadata": {
    "collapsed": false
   }
  },
  {
   "cell_type": "code",
   "execution_count": 1,
   "metadata": {
    "collapsed": true
   },
   "outputs": [
    {
     "name": "stderr",
     "output_type": "stream",
     "text": [
      "C:\\Users\\bi4372\\.conda\\envs\\pywatts_workshop\\lib\\site-packages\\numpy\\_distributor_init.py:30: UserWarning: loaded more than 1 DLL from .libs:\n",
      "C:\\Users\\bi4372\\.conda\\envs\\pywatts_workshop\\lib\\site-packages\\numpy\\.libs\\libopenblas.EL2C6PLE4ZYW3ECEVIV3OXXGRN2NRFM2.gfortran-win_amd64.dll\n",
      "C:\\Users\\bi4372\\.conda\\envs\\pywatts_workshop\\lib\\site-packages\\numpy\\.libs\\libopenblas.FB5AE2TYXYH2IJRDKGDGQ3XBKLKTF43H.gfortran-win_amd64.dll\n",
      "  warnings.warn(\"loaded more than 1 DLL from .libs:\"\n"
     ]
    }
   ],
   "source": [
    "import pandas as pd\n",
    "from sklearn.linear_model import LinearRegression\n",
    "from sklearn.preprocessing import StandardScaler\n",
    "from sklearn.feature_selection import SelectKBest, f_regression\n",
    "\n",
    "# From pyWATTS the pipeline is imported\n",
    "from pywatts.callbacks import LinePlotCallback\n",
    "from pywatts_pipeline.core.util.computation_mode import ComputationMode\n",
    "from pywatts_pipeline.core.pipeline import Pipeline\n",
    "# All modules required for the pipeline are imported\n",
    "from pywatts.modules import CalendarExtraction, CalendarFeature, ClockShift, LinearInterpolater, SKLearnWrapper, Sampler\n",
    "from pywatts.modules.preprocessing.select import Select\n",
    "from pywatts.summaries import RMSE"
   ]
  },
  {
   "cell_type": "markdown",
   "source": [
    "## Functional API\n",
    "\n",
    "The functional API provides an easy way to create pipelines. However, it requires that the call dunder is implemented in the used transformers/modules, which is the case for pyWATTS transformers.\n",
    "The API is inspired by the functional API of Keras. In general the notation is as follows:\n",
    "\n",
    "```Transformer()(x=predeccessor, y=predecessor, ...)```\n",
    "\n",
    "In the following, we show how a simple Pipeline can be created with the Functional API"
   ],
   "metadata": {
    "collapsed": false
   }
  },
  {
   "cell_type": "code",
   "execution_count": 2,
   "outputs": [],
   "source": [
    "functional_api_pipeline = Pipeline(path=\"../results\")\n",
    "\n",
    "# Extract dummy calendar features, using holidays from Germany\n",
    "# NOTE: CalendarExtraction can't return multiple features.\n",
    "calendar = CalendarExtraction(continent=\"Europe\",\n",
    "                              country=\"Germany\",\n",
    "                              features=[CalendarFeature.month, CalendarFeature.weekday,\n",
    "                                        CalendarFeature.weekend]\n",
    "                              )(x=functional_api_pipeline[\"load_power_statistics\"])\n",
    "\n",
    "# Deal with missing values through linear interpolation\n",
    "imputer_power_statistics = LinearInterpolater(method=\"nearest\", dim=\"time\",\n",
    "                                              name=\"imputer_power\"\n",
    "                                              )(x=functional_api_pipeline[\"load_power_statistics\"])\n",
    "\n",
    "# Scale the data using a standard SKLearn scaler\n",
    "power_scaler = SKLearnWrapper(module=StandardScaler(), name=\"scaler_power\")\n",
    "scale_power_statistics = power_scaler(x=imputer_power_statistics)\n",
    "\n",
    "# Create lagged time series to later be used as regressors\n",
    "lag_features = Select(start=-2, stop=0, step=1)(x=scale_power_statistics)\n",
    "\n",
    "scaler_target = SKLearnWrapper(module=StandardScaler(), name=\"scaler_power\")\n",
    "scaled_target = scaler_target(x=imputer_power_statistics)\n",
    "target_multiple_output = Select(start=0, stop=24, step=1, name=\"sampled_data\")(x=scaled_target)\n",
    "\n",
    "# Select features based on F-statistic\n",
    "selected_features = SKLearnWrapper(\n",
    "    module=SelectKBest(score_func=f_regression, k=2), name=\"kbest\"\n",
    ")(\n",
    "    lag_features=lag_features,\n",
    "    calendar=calendar,\n",
    "    target=scale_power_statistics,\n",
    ")\n",
    "\n",
    "# Create a linear regression that uses the lagged values to predict the current value\n",
    "# NOTE: SKLearnWrapper has to collect all **kwargs itself and fit it against target.\n",
    "#       It is also possible to implement a join/collect class\n",
    "regressor_power_statistics = SKLearnWrapper(\n",
    "    module=LinearRegression(fit_intercept=True)\n",
    ")(\n",
    "    features=selected_features,\n",
    "    target=target_multiple_output,\n",
    "    callbacks=[LinePlotCallback(\"linear_regression\")],\n",
    ")\n",
    "\n",
    "# Rescale the predictions to be on the original time scale\n",
    "inverse_power_scale = scaler_target(\n",
    "    x=regressor_power_statistics, computation_mode=ComputationMode.Transform,\n",
    "    method=\"inverse_transform\", callbacks=[LinePlotCallback(\"rescale\")]\n",
    ")\n",
    "\n",
    "# Calculate the root mean squared error (RMSE) between the linear regression and the true values\n",
    "# save it as csv file\n",
    "rmse = RMSE()(y_hat=inverse_power_scale, y=target_multiple_output)\n"
   ],
   "metadata": {
    "collapsed": false
   }
  },
  {
   "cell_type": "code",
   "execution_count": 3,
   "outputs": [
    {
     "data": {
      "text/plain": "[(<pywatts_pipeline.core.steps.start_step.StartStep at 0x1eb3e6cbee0>,\n  'load_power_statistics'),\n (<pywatts_pipeline.core.steps.step.Step at 0x1eb3e77cb80>,\n  'CalendarExtraction_1'),\n (<pywatts_pipeline.core.steps.step.Step at 0x1eb02b1b400>, 'imputer_power_2'),\n (<pywatts_pipeline.core.steps.step.Step at 0x1eb3e7ba0a0>, 'scaler_power_3'),\n (<pywatts_pipeline.core.steps.step.Step at 0x1eb3e7ba6d0>, 'SampleModule_4'),\n (<pywatts_pipeline.core.steps.step.Step at 0x1eb3e7baa90>, 'scaler_power_5'),\n (<pywatts_pipeline.core.steps.step.Step at 0x1eb3e7baa60>, 'sampled_data_6'),\n (<pywatts_pipeline.core.steps.step.Step at 0x1eb3e7c0880>, 'kbest_7'),\n (<pywatts_pipeline.core.steps.step.Step at 0x1eb3e7c02e0>,\n  'LinearRegression_8'),\n (<pywatts_pipeline.core.steps.step.Step at 0x1eb3e7c6730>,\n  'scaler_power_5_9'),\n (<pywatts_pipeline.core.steps.summary_step.SummaryStep at 0x1eb3e7c6520>,\n  'RMSE_10')]"
     },
     "execution_count": 3,
     "metadata": {},
     "output_type": "execute_result"
    }
   ],
   "source": [
    "functional_api_pipeline.steps"
   ],
   "metadata": {
    "collapsed": false
   }
  },
  {
   "cell_type": "markdown",
   "source": [],
   "metadata": {
    "collapsed": false
   }
  },
  {
   "cell_type": "markdown",
   "source": [
    "## Imperative API\n",
    "\n",
    "The imperative API is an alternative API for pyWATTS Pipelines. It can be used if the transformers do not implement a call dunder.\n",
    "The general notation is as follows\n",
    "\n",
    "```TODO```\n",
    "\n",
    "In the following, we implement the same pipeline as above with a functional API."
   ],
   "metadata": {
    "collapsed": false
   }
  },
  {
   "cell_type": "code",
   "execution_count": 4,
   "outputs": [
    {
     "data": {
      "text/plain": "<pywatts_pipeline.core.steps.step_information.StepInformation at 0x1eb3e7c0e20>"
     },
     "execution_count": 4,
     "metadata": {},
     "output_type": "execute_result"
    }
   ],
   "source": [
    "imperative_api_pipeline = Pipeline()\n",
    "\n",
    "imperative_api_pipeline.add(\n",
    "    CalendarExtraction(continent=\"Europe\", country=\"Germany\",\n",
    "                       features=[CalendarFeature.month, CalendarFeature.weekday,\n",
    "                                 CalendarFeature.weekend]),\n",
    "    \"calendar\",\n",
    "    {\"x\": \"load_power_statistics\"}\n",
    ")\n",
    "\n",
    "imperative_api_pipeline.add(\n",
    "    LinearInterpolater(method=\"nearest\", dim=\"time\", name=\"imputer_power\"),\n",
    "    \"imputer\",\n",
    "    {\"x\": \"load_power_statistics\"}\n",
    ")\n",
    "power_scaler = SKLearnWrapper(module=StandardScaler(), name=\"scaler_power\")\n",
    "\n",
    "imperative_api_pipeline.add(\n",
    "    power_scaler,\n",
    "    \"scaler\",\n",
    "    {\"x\": \"imputer\"}\n",
    ")\n",
    "\n",
    "imperative_api_pipeline.add(\n",
    "    Select(start=-2, stop=0, step=1),\n",
    "    \"lag_features\",\n",
    "    {\"x\": \"scaler\"}\n",
    ")\n",
    "\n",
    "imperative_api_pipeline.add(\n",
    "    Select(start=0, stop=24, step=1),\n",
    "    \"target\",\n",
    "    {\"x\": \"scaler\"}\n",
    ")\n",
    "\n",
    "imperative_api_pipeline.add(\n",
    "    SKLearnWrapper(module=SelectKBest(score_func=f_regression, k=2), name=\"kbest\"),\n",
    "    \"selected_features\",\n",
    "    {\"lag_features\": \"lag_features\",\n",
    "     \"calendar\": \"calendar\",\n",
    "     \"target\": \"scaler\"}\n",
    ")\n",
    "\n",
    "imperative_api_pipeline.add(\n",
    "    SKLearnWrapper(module=LinearRegression(fit_intercept=True)),\n",
    "    \"regression\",\n",
    "    {\"selected_features\": \"selected_features\",\n",
    "     \"target\": \"target\"}\n",
    ")\n",
    "\n",
    "imperative_api_pipeline.add(\n",
    "    power_scaler,\n",
    "    \"inverse_scaler\",\n",
    "    {\"x\": \"regression\"},\n",
    "    method=\"inverse_transform\",\n",
    "    callbacks=[LinePlotCallback(\"rescale\")],\n",
    "    computation_mode=ComputationMode.Transform\n",
    ")\n",
    "\n",
    "imperative_api_pipeline.add(\n",
    "    RMSE(),\n",
    "    \"rmse\",\n",
    "    {\"y_hat\": \"inverse_scaler\",\n",
    "     \"y\": \"target\"},\n",
    ")\n"
   ],
   "metadata": {
    "collapsed": false
   }
  },
  {
   "cell_type": "code",
   "execution_count": 5,
   "outputs": [],
   "source": [
    "pipeline = Pipeline(\n",
    "    steps=[\n",
    "        (CalendarExtraction(continent=\"Europe\", country=\"Germany\",\n",
    "                            features=[CalendarFeature.month, CalendarFeature.weekday,\n",
    "                                      CalendarFeature.weekend]),\n",
    "         \"calendar\",\n",
    "         {\"x\": \"load_power_statistics\"}, {}),\n",
    "        (LinearInterpolater(method=\"nearest\", dim=\"time\", name=\"imputer_power\"),\n",
    "         \"imputer\",\n",
    "         {\"x\": \"load_power_statistics\"}, {}),\n",
    "        (power_scaler,\n",
    "         \"scaler\",\n",
    "         {\"x\": \"imputer\"}, {}),\n",
    "        (Select(start=-2, stop=0, step=1),\n",
    "         \"lag_features\",\n",
    "         {\"x\": \"scaler\"}, {}),\n",
    "        (Select(start=0, stop=24, step=1),\n",
    "         \"target\",\n",
    "         {\"x\": \"scaler\"}, {}),\n",
    "        (SKLearnWrapper(module=SelectKBest(score_func=f_regression, k=2), name=\"kbest\"),\n",
    "         \"selected_features\",\n",
    "         {\"lag_features\": \"lag_features\",\n",
    "          \"calendar\": \"calendar\",\n",
    "          \"target\": \"scaler\"}, {}),\n",
    "        (SKLearnWrapper(module=LinearRegression(fit_intercept=True)),\n",
    "         \"regression\",\n",
    "         {\"selected_features\": \"selected_features\",\n",
    "          \"target\": \"target\"}, {}),\n",
    "        (power_scaler,\n",
    "         \"inverse_scaler\",\n",
    "         {\"x\": \"regression\"},\n",
    "         {\"method\": \"inverse_transform\",\n",
    "          \"callbacks\": [LinePlotCallback(\"rescale\")],\n",
    "          \"computation_mode\": ComputationMode.Transform}),\n",
    "        (RMSE(),\n",
    "         \"rmse\",\n",
    "         {\"y_hat\": \"inverse_scaler\",\n",
    "          \"y\": \"target\"}, {})\n",
    "    ]\n",
    ")\n"
   ],
   "metadata": {
    "collapsed": false
   }
  },
  {
   "cell_type": "code",
   "execution_count": 6,
   "outputs": [],
   "source": [
    "\n",
    "# Now, the pipeline is complete, so we can run it and explore the results\n",
    "# Start the pipeline\n",
    "data = pd.read_csv(\"../data/getting_started_data.csv\",\n",
    "                   index_col=\"time\",\n",
    "                   parse_dates=[\"time\"],\n",
    "                   infer_datetime_format=True,\n",
    "                   sep=\",\")\n",
    "train = data.iloc[:6000, :]\n",
    "test = data.iloc[6000:, :]\n"
   ],
   "metadata": {
    "collapsed": false
   }
  },
  {
   "cell_type": "code",
   "execution_count": 7,
   "outputs": [
    {
     "name": "stderr",
     "output_type": "stream",
     "text": [
      "C:\\Users\\bi4372\\.conda\\envs\\pywatts_workshop\\lib\\site-packages\\sklearn\\utils\\validation.py:1111: DataConversionWarning: A column-vector y was passed when a 1d array was expected. Please change the shape of y to (n_samples, ), for example using ravel().\n",
      "  y = column_or_1d(y, warn=True)\n"
     ]
    },
    {
     "data": {
      "text/plain": "({'inverse_scaler': <xarray.DataArray (time: 2758, dim_0: 24)>\n  array([[43784.37968947, 44585.98767846, 46033.62055118, ...,\n          49929.25950573, 48459.51745291, 47531.47191973],\n         [43863.43546587, 45095.85801789, 46830.32152086, ...,\n          48623.11376573, 47609.78597417, 47286.44651005],\n         [44481.44016144, 46053.34130171, 47980.73351623, ...,\n          47835.39356861, 47265.71193995, 47493.23873665],\n         ...,\n         [48946.71547956, 47752.69557672, 47542.44980835, ...,\n          58382.33128245, 55634.01406664, 52644.64087873],\n         [48881.27605756, 48852.27352017, 49434.30822163, ...,\n          54728.87453212, 53172.59737633, 51781.11801085],\n         [49325.56967491, 49982.3026384 , 51001.92720637, ...,\n          52788.26133735, 52006.60213568, 51620.25933718]])\n  Coordinates:\n    * time     (time) datetime64[ns] 2018-09-08T02:00:00 ... 2018-12-31T23:00:00\n    * dim_0    (dim_0) int32 0 1 2 3 4 5 6 7 8 9 ... 14 15 16 17 18 19 20 21 22 23},\n '# Summary: \\n## Summary\\n### rmse\\n\\n* y_hat : 59471.781035211294\\n## FitTime\\n### calendar Training Time\\n\\n*  : 0.0\\n### imputer Training Time\\n\\n*  : 0.0\\n### scaler Training Time\\n\\n*  : 0.0009698867797851562\\n### lag_features Training Time\\n\\n*  : 0.0\\n### target Training Time\\n\\n*  : 0.0\\n### selected_features Training Time\\n\\n*  : 0.0039997100830078125\\n### regression Training Time\\n\\n*  : 0.007006645202636719\\n## TransformTime\\n### calendar Transform Time\\n\\n*  : 0.01099848747253418\\n### imputer Transform Time\\n\\n*  : 0.0010001659393310547\\n### scaler Transform Time\\n\\n*  : 0.0010023117065429688\\n### lag_features Transform Time\\n\\n*  : 0.003000497817993164\\n### target Transform Time\\n\\n*  : 0.021000385284423828\\n### selected_features Transform Time\\n\\n*  : 0.0019707679748535156\\n### regression Transform Time\\n\\n*  : 0.0020263195037841797\\n### inverse_scaler Transform Time\\n\\n*  : 0.0019643306732177734\\n')"
     },
     "execution_count": 7,
     "metadata": {},
     "output_type": "execute_result"
    }
   ],
   "source": [
    "pipeline.train(data=train)\n",
    "pipeline.test(data=test)"
   ],
   "metadata": {
    "collapsed": false
   }
  },
  {
   "cell_type": "code",
   "execution_count": 8,
   "outputs": [
    {
     "name": "stderr",
     "output_type": "stream",
     "text": [
      "C:\\Users\\bi4372\\.conda\\envs\\pywatts_workshop\\lib\\site-packages\\sklearn\\utils\\validation.py:1111: DataConversionWarning: A column-vector y was passed when a 1d array was expected. Please change the shape of y to (n_samples, ), for example using ravel().\n",
      "  y = column_or_1d(y, warn=True)\n"
     ]
    },
    {
     "data": {
      "text/plain": "({'scaler_power_5_9': <xarray.DataArray (time: 2758, dim_0: 24)>\n  array([[43784.37968947, 44585.98767846, 46033.62055118, ...,\n          49929.25950573, 48459.51745291, 47531.47191973],\n         [43863.43546587, 45095.85801789, 46830.32152086, ...,\n          48623.11376573, 47609.78597417, 47286.44651005],\n         [44481.44016144, 46053.34130171, 47980.73351623, ...,\n          47835.39356861, 47265.71193995, 47493.23873665],\n         ...,\n         [48946.71547956, 47752.69557672, 47542.44980835, ...,\n          58382.33128245, 55634.01406664, 52644.64087873],\n         [48881.27605756, 48852.27352017, 49434.30822163, ...,\n          54728.87453212, 53172.59737633, 51781.11801085],\n         [49325.56967491, 49982.3026384 , 51001.92720637, ...,\n          52788.26133735, 52006.60213568, 51620.25933718]])\n  Coordinates:\n    * time     (time) datetime64[ns] 2018-09-08T02:00:00 ... 2018-12-31T23:00:00\n    * dim_0    (dim_0) int32 0 1 2 3 4 5 6 7 8 9 ... 14 15 16 17 18 19 20 21 22 23},\n '# Summary: \\n## Summary\\n### RMSE_10\\n\\n* y_hat : 59471.781035211294\\n## FitTime\\n### CalendarExtraction_1 Training Time\\n\\n*  : 0.0\\n### imputer_power_2 Training Time\\n\\n*  : 0.0\\n### scaler_power_3 Training Time\\n\\n*  : 0.001001119613647461\\n### SampleModule_4 Training Time\\n\\n*  : 0.0\\n### scaler_power_5 Training Time\\n\\n*  : 0.0\\n### sampled_data_6 Training Time\\n\\n*  : 0.0\\n### kbest_7 Training Time\\n\\n*  : 0.0009999275207519531\\n### LinearRegression_8 Training Time\\n\\n*  : 0.007999420166015625\\n## TransformTime\\n### CalendarExtraction_1 Transform Time\\n\\n*  : 0.011002302169799805\\n### imputer_power_2 Transform Time\\n\\n*  : 0.001970052719116211\\n### scaler_power_3 Transform Time\\n\\n*  : 0.0\\n### SampleModule_4 Transform Time\\n\\n*  : 0.003995180130004883\\n### scaler_power_5 Transform Time\\n\\n*  : 0.0009958744049072266\\n### sampled_data_6 Transform Time\\n\\n*  : 0.015999317169189453\\n### kbest_7 Transform Time\\n\\n*  : 0.0010008811950683594\\n### LinearRegression_8 Transform Time\\n\\n*  : 0.0020012855529785156\\n### scaler_power_5_9 Transform Time\\n\\n*  : 0.0010004043579101562\\n')"
     },
     "execution_count": 8,
     "metadata": {},
     "output_type": "execute_result"
    }
   ],
   "source": [
    "functional_api_pipeline.train(data=train)\n",
    "functional_api_pipeline.test(data=test)"
   ],
   "metadata": {
    "collapsed": false
   }
  },
  {
   "cell_type": "code",
   "execution_count": 9,
   "outputs": [
    {
     "name": "stderr",
     "output_type": "stream",
     "text": [
      "C:\\Users\\bi4372\\.conda\\envs\\pywatts_workshop\\lib\\site-packages\\sklearn\\utils\\validation.py:1111: DataConversionWarning: A column-vector y was passed when a 1d array was expected. Please change the shape of y to (n_samples, ), for example using ravel().\n",
      "  y = column_or_1d(y, warn=True)\n"
     ]
    },
    {
     "data": {
      "text/plain": "({'inverse_scaler': <xarray.DataArray (time: 2758, dim_0: 24)>\n  array([[43784.37968947, 44585.98767846, 46033.62055118, ...,\n          49929.25950573, 48459.51745291, 47531.47191973],\n         [43863.43546587, 45095.85801789, 46830.32152086, ...,\n          48623.11376573, 47609.78597417, 47286.44651005],\n         [44481.44016144, 46053.34130171, 47980.73351623, ...,\n          47835.39356861, 47265.71193995, 47493.23873665],\n         ...,\n         [48946.71547956, 47752.69557672, 47542.44980835, ...,\n          58382.33128245, 55634.01406664, 52644.64087873],\n         [48881.27605756, 48852.27352017, 49434.30822163, ...,\n          54728.87453212, 53172.59737633, 51781.11801085],\n         [49325.56967491, 49982.3026384 , 51001.92720637, ...,\n          52788.26133735, 52006.60213568, 51620.25933718]])\n  Coordinates:\n    * time     (time) datetime64[ns] 2018-09-08T02:00:00 ... 2018-12-31T23:00:00\n    * dim_0    (dim_0) int32 0 1 2 3 4 5 6 7 8 9 ... 14 15 16 17 18 19 20 21 22 23},\n '# Summary: \\n## Summary\\n### rmse\\n\\n* y_hat : 59471.781035211294\\n## FitTime\\n### calendar Training Time\\n\\n*  : 0.0\\n### imputer Training Time\\n\\n*  : 0.0\\n### scaler Training Time\\n\\n*  : 0.0\\n### lag_features Training Time\\n\\n*  : 0.0\\n### target Training Time\\n\\n*  : 0.0\\n### selected_features Training Time\\n\\n*  : 0.0009996891021728516\\n### regression Training Time\\n\\n*  : 0.006975889205932617\\n## TransformTime\\n### calendar Transform Time\\n\\n*  : 0.018001079559326172\\n### imputer Transform Time\\n\\n*  : 0.001001596450805664\\n### scaler Transform Time\\n\\n*  : 0.0010004043579101562\\n### lag_features Transform Time\\n\\n*  : 0.0029990673065185547\\n### target Transform Time\\n\\n*  : 0.02100372314453125\\n### selected_features Transform Time\\n\\n*  : 0.0009999275207519531\\n### regression Transform Time\\n\\n*  : 0.0010027885437011719\\n### inverse_scaler Transform Time\\n\\n*  : 0.0009922981262207031\\n')"
     },
     "execution_count": 9,
     "metadata": {},
     "output_type": "execute_result"
    }
   ],
   "source": [
    "imperative_api_pipeline.train(data=train)\n",
    "imperative_api_pipeline.test(data=test)"
   ],
   "metadata": {
    "collapsed": false
   }
  }
 ],
 "metadata": {
  "kernelspec": {
   "display_name": "Python 3",
   "language": "python",
   "name": "python3"
  },
  "language_info": {
   "codemirror_mode": {
    "name": "ipython",
    "version": 2
   },
   "file_extension": ".py",
   "mimetype": "text/x-python",
   "name": "python",
   "nbconvert_exporter": "python",
   "pygments_lexer": "ipython2",
   "version": "2.7.6"
  }
 },
 "nbformat": 4,
 "nbformat_minor": 0
}
