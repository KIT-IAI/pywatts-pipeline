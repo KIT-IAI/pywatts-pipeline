{
 "cells": [
  {
   "cell_type": "markdown",
   "source": [
    "# Create a Pipeline\n",
    "We provide three ways of creating a pipeline.\n",
    "* Functional API\n",
    "* Imperative API\n",
    "* Constructor API\n",
    "\n",
    "In the following, we briefly describe all three APIs."
   ],
   "metadata": {
    "collapsed": false
   }
  },
  {
   "cell_type": "code",
   "execution_count": null,
   "metadata": {
    "collapsed": true,
    "pycharm": {
     "is_executing": true
    }
   },
   "outputs": [
    {
     "name": "stderr",
     "output_type": "stream",
     "text": [
      "C:\\Users\\bi4372\\.conda\\envs\\pywatts_workshop\\lib\\site-packages\\numpy\\_distributor_init.py:30: UserWarning: loaded more than 1 DLL from .libs:\n",
      "C:\\Users\\bi4372\\.conda\\envs\\pywatts_workshop\\lib\\site-packages\\numpy\\.libs\\libopenblas.EL2C6PLE4ZYW3ECEVIV3OXXGRN2NRFM2.gfortran-win_amd64.dll\n",
      "C:\\Users\\bi4372\\.conda\\envs\\pywatts_workshop\\lib\\site-packages\\numpy\\.libs\\libopenblas.FB5AE2TYXYH2IJRDKGDGQ3XBKLKTF43H.gfortran-win_amd64.dll\n",
      "  warnings.warn(\"loaded more than 1 DLL from .libs:\"\n"
     ]
    }
   ],
   "source": [
    "import pandas as pd\n",
    "from sklearn.linear_model import LinearRegression\n",
    "from sklearn.preprocessing import StandardScaler\n",
    "from sklearn.feature_selection import SelectKBest, f_regression\n",
    "\n",
    "# From pyWATTS the pipeline is imported\n",
    "from pywatts.callbacks import LinePlotCallback\n",
    "\n",
    "from pywatts_pipeline.core.steps.step import Step\n",
    "from pywatts_pipeline.core.util.computation_mode import ComputationMode\n",
    "from pywatts_pipeline.core.pipeline import Pipeline\n",
    "# All modules required for the pipeline are imported\n",
    "from pywatts.modules import CalendarExtraction, CalendarFeature, ClockShift, LinearInterpolater, SKLearnWrapper, Sampler\n",
    "from pywatts.modules.preprocessing.select import Select\n",
    "from pywatts.summaries import RMSE"
   ]
  },
  {
   "cell_type": "markdown",
   "source": [
    "## Functional API\n",
    "\n",
    "The functional API provides an easy way to create pipelines. However, it requires that the call dunder is implemented in the used transformers/modules, which is the case for pyWATTS transformers.\n",
    "The API is inspired by the functional API of Keras. In general the notation is as follows:\n",
    "\n",
    "```Transformer()(x=predeccessor, y=predecessor, ...)```\n",
    "\n",
    "In the following, we show how a simple Pipeline can be created with the Functional API"
   ],
   "metadata": {
    "collapsed": false
   }
  },
  {
   "cell_type": "code",
   "execution_count": null,
   "outputs": [],
   "source": [
    "functional_api_pipeline = Pipeline(path=\"../results\")\n",
    "\n",
    "# Extract dummy calendar features, using holidays from Germany\n",
    "# NOTE: CalendarExtraction can't return multiple features.\n",
    "\n",
    "functional_preprocessing_pipeline = Pipeline()\n",
    "calendar = CalendarExtraction(continent=\"Europe\",\n",
    "                              country=\"Germany\",\n",
    "                              features=[CalendarFeature.month, CalendarFeature.weekday,\n",
    "                                        CalendarFeature.weekend]\n",
    "                              )(x=functional_preprocessing_pipeline[\"load_power_statistics\"])\n",
    "\n",
    "# Deal with missing values through linear interpolation\n",
    "imputer_power_statistics = LinearInterpolater(method=\"nearest\", dim=\"time\",\n",
    "                                              name=\"imputer_power\"\n",
    "                                              )(x=functional_preprocessing_pipeline[\"load_power_statistics\"])\n",
    "\n",
    "\n",
    "scaler_target = SKLearnWrapper(module=StandardScaler(), name=\"scaled_target\")\n",
    "scaled_target = scaler_target(x=imputer_power_statistics)\n",
    "\n",
    "# Scale the data using a standard SKLearn scaler\n",
    "power_scaler = SKLearnWrapper(module=StandardScaler(), name=\"scaled_input\")\n",
    "scale_power_statistics = power_scaler(x=imputer_power_statistics)\n",
    "\n",
    "\n",
    "added_prepro_pipe = functional_preprocessing_pipeline(load_power_statistics=functional_api_pipeline[\"load_power_statistics\"])\n",
    "# Create lagged time series to later be used as regressors\n",
    "lag_features = Select(start=-2, stop=0, step=1)(x=added_prepro_pipe[\"scaled_input\"])\n",
    "\n",
    "target_multiple_output = Select(start=0, stop=24, step=1, name=\"sampled_data\")(x=added_prepro_pipe[\"scaled_target\"])\n",
    "\n",
    "# Select features based on F-statistic\n",
    "selected_features = SKLearnWrapper(\n",
    "    module=SelectKBest(score_func=f_regression, k=2), name=\"kbest\"\n",
    ")(\n",
    "    lag_features=lag_features,\n",
    "    calendar=added_prepro_pipe[\"calendar\"],\n",
    "    target=added_prepro_pipe[\"scaled_input\"],\n",
    ")\n",
    "\n",
    "# Create a linear regression that uses the lagged values to predict the current value\n",
    "# NOTE: SKLearnWrapper has to collect all **kwargs itself and fit it against target.\n",
    "#       It is also possible to implement a join/collect class\n",
    "regressor_power_statistics = SKLearnWrapper(\n",
    "    module=LinearRegression(fit_intercept=True)\n",
    ")(\n",
    "    features=selected_features,\n",
    "    target=target_multiple_output,\n",
    "    callbacks=[LinePlotCallback(\"linear_regression\")],\n",
    ")\n",
    "\n",
    "# Rescale the predictions to be on the original time scale\n",
    "inverse_power_scale = scaler_target(\n",
    "    x=regressor_power_statistics, computation_mode=ComputationMode.Transform,\n",
    "    method=\"inverse_transform\", callbacks=[LinePlotCallback(\"rescale\")]\n",
    ")\n",
    "\n",
    "# Calculate the root mean squared error (RMSE) between the linear regression and the true values\n",
    "# save it as csv file\n",
    "rmse = RMSE()(y_hat=inverse_power_scale, y=target_multiple_output)\n"
   ],
   "metadata": {
    "collapsed": false,
    "pycharm": {
     "is_executing": true
    }
   }
  },
  {
   "cell_type": "code",
   "execution_count": null,
   "outputs": [],
   "source": [
    "functional_api_pipeline.steps[\"RMSE_10\"].input_steps[\"y_hat\"]"
   ],
   "metadata": {
    "collapsed": false,
    "pycharm": {
     "is_executing": true
    }
   }
  },
  {
   "cell_type": "code",
   "execution_count": null,
   "outputs": [],
   "source": [
    "functional_api_pipeline.steps[\"scaled_target_9\"].input_steps[\"x\"].input_steps[\"features\"].input_steps[\"lag_features\"].input_steps[\"x\"].input_steps[\"result\"].buffer\n"
   ],
   "metadata": {
    "collapsed": false,
    "pycharm": {
     "is_executing": true
    }
   }
  },
  {
   "cell_type": "markdown",
   "source": [],
   "metadata": {
    "collapsed": false
   }
  },
  {
   "cell_type": "markdown",
   "source": [
    "## Imperative API\n",
    "\n",
    "The imperative API is an alternative API for pyWATTS Pipelines. It can be used if the transformers do not implement a call dunder.\n",
    "The general notation is as follows\n",
    "\n",
    "```TODO```\n",
    "\n",
    "In the following, we implement the same pipeline as above with a functional API."
   ],
   "metadata": {
    "collapsed": false
   }
  },
  {
   "cell_type": "code",
   "execution_count": null,
   "outputs": [],
   "source": [
    "imperative_api_pipeline = Pipeline()\n",
    "\n",
    "imperative_api_pipeline.add(\n",
    "    CalendarExtraction(continent=\"Europe\", country=\"Germany\",\n",
    "                       features=[CalendarFeature.month, CalendarFeature.weekday,\n",
    "                                 CalendarFeature.weekend]),\n",
    "    \"calendar\",\n",
    "    {\"x\": \"load_power_statistics\"}\n",
    ")\n",
    "\n",
    "imperative_api_pipeline.add(\n",
    "    LinearInterpolater(method=\"nearest\", dim=\"time\", name=\"imputer_power\"),\n",
    "    \"imputer\",\n",
    "    {\"x\": \"load_power_statistics\"}\n",
    ")\n",
    "power_scaler = SKLearnWrapper(module=StandardScaler(), name=\"scaler_power\")\n",
    "\n",
    "imperative_api_pipeline.add(\n",
    "    power_scaler,\n",
    "    \"scaler\",\n",
    "    {\"x\": \"imputer\"}\n",
    ")\n",
    "\n",
    "imperative_api_pipeline.add(\n",
    "    Select(start=-2, stop=0, step=1),\n",
    "    \"lag_features\",\n",
    "    {\"x\": \"scaler\"}\n",
    ")\n",
    "\n",
    "imperative_api_pipeline.add(\n",
    "    Select(start=0, stop=24, step=1),\n",
    "    \"target\",\n",
    "    {\"x\": \"scaler\"}\n",
    ")\n",
    "\n",
    "imperative_api_pipeline.add(\n",
    "    SKLearnWrapper(module=SelectKBest(score_func=f_regression, k=2), name=\"kbest\"),\n",
    "    \"selected_features\",\n",
    "    {\"lag_features\": \"lag_features\",\n",
    "     \"calendar\": \"calendar\",\n",
    "     \"target\": \"scaler\"}\n",
    ")\n",
    "\n",
    "imperative_api_pipeline.add(\n",
    "    SKLearnWrapper(module=LinearRegression(fit_intercept=True)),\n",
    "    \"regression\",\n",
    "    {\"selected_features\": \"selected_features\",\n",
    "     \"target\": \"target\"}\n",
    ")\n",
    "\n",
    "imperative_api_pipeline.add(\n",
    "    power_scaler,\n",
    "    \"inverse_scaler\",\n",
    "    {\"x\": \"regression\"},\n",
    "    method=\"inverse_transform\",\n",
    "    callbacks=[LinePlotCallback(\"rescale\")],\n",
    "    computation_mode=ComputationMode.Transform\n",
    ")\n",
    "\n",
    "imperative_api_pipeline.add(\n",
    "    RMSE(),\n",
    "    \"rmse\",\n",
    "    {\"y_hat\": \"inverse_scaler\",\n",
    "     \"y\": \"target\"},\n",
    ")\n"
   ],
   "metadata": {
    "collapsed": false,
    "pycharm": {
     "is_executing": true
    }
   }
  },
  {
   "cell_type": "code",
   "execution_count": null,
   "outputs": [],
   "source": [
    "pipeline = Pipeline(\n",
    "    steps=[\n",
    "        (CalendarExtraction(continent=\"Europe\", country=\"Germany\",\n",
    "                            features=[CalendarFeature.month, CalendarFeature.weekday,\n",
    "                                      CalendarFeature.weekend]),\n",
    "         \"calendar\",\n",
    "         {\"x\": \"load_power_statistics\"}, {}),\n",
    "        (LinearInterpolater(method=\"nearest\", dim=\"time\", name=\"imputer_power\"),\n",
    "         \"imputer\",\n",
    "         {\"x\": \"load_power_statistics\"}, {}),\n",
    "        (power_scaler,\n",
    "         \"scaler\",\n",
    "         {\"x\": \"imputer\"}, {}),\n",
    "        (Select(start=-2, stop=0, step=1),\n",
    "         \"lag_features\",\n",
    "         {\"x\": \"scaler\"}, {}),\n",
    "        (Select(start=0, stop=24, step=1),\n",
    "         \"target\",\n",
    "         {\"x\": \"scaler\"}, {}),\n",
    "        (SKLearnWrapper(module=SelectKBest(score_func=f_regression, k=2), name=\"kbest\"),\n",
    "         \"selected_features\",\n",
    "         {\"lag_features\": \"lag_features\",\n",
    "          \"calendar\": \"calendar\",\n",
    "          \"target\": \"scaler\"}, {}),\n",
    "        (SKLearnWrapper(module=LinearRegression(fit_intercept=True)),\n",
    "         \"regression\",\n",
    "         {\"selected_features\": \"selected_features\",\n",
    "          \"target\": \"target\"}, {}),\n",
    "        (power_scaler,\n",
    "         \"inverse_scaler\",\n",
    "         {\"x\": \"regression\"},\n",
    "         {\"method\": \"inverse_transform\",\n",
    "          \"callbacks\": [LinePlotCallback(\"rescale\")],\n",
    "          \"computation_mode\": ComputationMode.Transform}),\n",
    "        (RMSE(),\n",
    "         \"rmse\",\n",
    "         {\"y_hat\": \"inverse_scaler\",\n",
    "          \"y\": \"target\"}, {})\n",
    "    ]\n",
    ")\n"
   ],
   "metadata": {
    "collapsed": false,
    "pycharm": {
     "is_executing": true
    }
   }
  },
  {
   "cell_type": "code",
   "execution_count": null,
   "outputs": [],
   "source": [
    "\n",
    "# Now, the pipeline is complete, so we can run it and explore the results\n",
    "# Start the pipeline\n",
    "data = pd.read_csv(\"../data/getting_started_data.csv\",\n",
    "                   index_col=\"time\",\n",
    "                   parse_dates=[\"time\"],\n",
    "                   infer_datetime_format=True,\n",
    "                   sep=\",\")\n",
    "train = data.iloc[:6000, :]\n",
    "test = data.iloc[6000:, :]\n"
   ],
   "metadata": {
    "collapsed": false,
    "pycharm": {
     "is_executing": true
    }
   }
  },
  {
   "cell_type": "code",
   "execution_count": null,
   "outputs": [],
   "source": [
    "pipeline.train(data=train)\n",
    "pipeline.test(data=test)"
   ],
   "metadata": {
    "collapsed": false,
    "pycharm": {
     "is_executing": true
    }
   }
  },
  {
   "cell_type": "code",
   "execution_count": null,
   "outputs": [],
   "source": [
    "from pywatts_pipeline.core.transformer.base import BaseEstimator\n",
    "\n",
    "for s in pipeline.steps:\n",
    "    if isinstance(s[0], Step) and isinstance(s[0].module, BaseEstimator):\n",
    "        print(s[0].name, s[0].module.is_fitted, id(s[0].module))"
   ],
   "metadata": {
    "collapsed": false,
    "pycharm": {
     "is_executing": true
    }
   }
  },
  {
   "cell_type": "code",
   "execution_count": null,
   "outputs": [],
   "source": [
    "functional_api_pipeline.train(data=train)\n",
    "functional_api_pipeline.test(data=test)"
   ],
   "metadata": {
    "collapsed": false,
    "pycharm": {
     "is_executing": true
    }
   }
  },
  {
   "cell_type": "code",
   "execution_count": null,
   "outputs": [],
   "source": [
    "imperative_api_pipeline.train(data=train)\n",
    "imperative_api_pipeline.test(data=test)"
   ],
   "metadata": {
    "collapsed": false,
    "pycharm": {
     "is_executing": true
    }
   }
  }
 ],
 "metadata": {
  "kernelspec": {
   "display_name": "Python 3",
   "language": "python",
   "name": "python3"
  },
  "language_info": {
   "codemirror_mode": {
    "name": "ipython",
    "version": 2
   },
   "file_extension": ".py",
   "mimetype": "text/x-python",
   "name": "python",
   "nbconvert_exporter": "python",
   "pygments_lexer": "ipython2",
   "version": "2.7.6"
  }
 },
 "nbformat": 4,
 "nbformat_minor": 0
}
