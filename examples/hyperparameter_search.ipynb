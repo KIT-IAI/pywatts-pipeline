{
 "cells": [
  {
   "cell_type": "markdown",
   "source": [
    "# Hyperparameter search in non-sequential pipelines\n",
    "\n",
    "This notebook shows how hyperparameter search for pyWATTS Pipelines can be performed. We show this on two different pipelines.\n",
    "\n",
    "The first pipeline performs a simple load forecast. The seond pipeline performs an electricity price forecast based on an historical load forecast.\n"
   ],
   "metadata": {
    "collapsed": false
   }
  },
  {
   "cell_type": "code",
   "execution_count": 1,
   "outputs": [],
   "source": [
    "import pandas as pd\n",
    "from pywatts.callbacks import LinePlotCallback\n",
    "from pywatts.modules import CalendarExtraction, CalendarFeature, SKLearnWrapper\n",
    "from pywatts.modules.preprocessing.select import Select\n",
    "from pywatts.summaries import RMSE\n",
    "from sklearn.linear_model import LinearRegression\n",
    "from sklearn.model_selection import TimeSeriesSplit, GridSearchCV\n",
    "from sklearn.preprocessing import StandardScaler\n",
    "\n",
    "from examples.load_data import load_elec_data\n",
    "from pywatts_pipeline.core.pipeline import Pipeline\n",
    "from pywatts_pipeline.core.util.computation_mode import ComputationMode\n"
   ],
   "metadata": {
    "collapsed": false
   }
  },
  {
   "cell_type": "markdown",
   "source": [
    "## Hyperparameter tuning for a Load Forecast Pipeline"
   ],
   "metadata": {
    "collapsed": false
   }
  },
  {
   "cell_type": "code",
   "execution_count": 2,
   "outputs": [
    {
     "name": "stderr",
     "output_type": "stream",
     "text": [
      "C:\\Users\\bi4372\\PycharmProjects\\pywatts-pipeline\\pywatts_pipeline\\core\\transformer\\base.py:205: UserWarning: The step with name sampled_data is renamed to sampled_data_1 due to naming conflicts.\n",
      "  warnings.warn(f\"The step with name {self.name} is renamed to {name} due to naming conflicts.\")\n",
      "C:\\Users\\bi4372\\PycharmProjects\\pywatts-pipeline\\pywatts_pipeline\\core\\transformer\\base.py:205: UserWarning: The step with name scaler is renamed to scaler_1 due to naming conflicts.\n",
      "  warnings.warn(f\"The step with name {self.name} is renamed to {name} due to naming conflicts.\")\n"
     ]
    }
   ],
   "source": [
    "# Create a pipeline\n",
    "pipeline = Pipeline(path=\"../results\")\n",
    "\n",
    "# Extract dummy calendar features, using holidays from Germany\n",
    "# NOTE: CalendarExtraction can't return multiple features.\n",
    "calendar = CalendarExtraction(continent=\"Europe\",\n",
    "                              country=\"Germany\",\n",
    "                              features=[CalendarFeature.month,CalendarFeature.weekday,\n",
    "                                        CalendarFeature.weekend],\n",
    "                              name=\"calendar\"\n",
    "                              )(x=pipeline[\"load_power_statistics\"])\n",
    "\n",
    "# Scale the data using a standard SKLearn scaler\n",
    "power_scaler = SKLearnWrapper(module=StandardScaler(), name=\"scaler\")\n",
    "scale_power_statistics = power_scaler(x=pipeline[\"load_power_statistics\"])\n",
    "\n",
    "# Create lagged time series to later be used as regressors\n",
    "lag_features = Select(start=-2, stop=0, step=1, name=\"lag_features\")(x=scale_power_statistics)\n",
    "\n",
    "target_multiple_output = Select(start=0, stop=24, step=1, name=\"sampled_data\")(x=scale_power_statistics)\n",
    "target = Select(start=0, stop=24, step=1, name=\"sampled_data\")(x=pipeline[\"load_power_statistics\"])\n",
    "\n",
    "# Create a linear regression that uses the lagged values to predict the current value\n",
    "# NOTE: SKLearnWrapper has to collect all **kwargs itself and fit it against target.\n",
    "#       It is also possible to implement a join/collect class\n",
    "regressor_power_statistics = SKLearnWrapper(\n",
    "    module=LinearRegression(fit_intercept=True)\n",
    ")(\n",
    "    features=lag_features,\n",
    "    calendar=calendar,\n",
    "    target=target_multiple_output,\n",
    ")\n",
    "\n",
    "# Rescale the predictions to be on the original time scale\n",
    "inverse_power_scale = power_scaler(\n",
    "    x=regressor_power_statistics, computation_mode=ComputationMode.Transform,\n",
    "    method=\"inverse_transform\", callbacks=[LinePlotCallback(\"rescale\")]\n",
    ")\n",
    "\n",
    "# Calculate the root mean squared error (RMSE) between the linear regression and the true values\n",
    "# save it as csv file\n",
    "rmse = RMSE(name=\"rmse\")(y_hat=inverse_power_scale, y=target)\n",
    "\n",
    "pipeline.set_score(\"rmse\", direction=\"lower\")"
   ],
   "metadata": {
    "collapsed": false
   }
  },
  {
   "cell_type": "code",
   "execution_count": 3,
   "outputs": [],
   "source": [
    "#pipeline.draw()"
   ],
   "metadata": {
    "collapsed": false
   }
  },
  {
   "cell_type": "markdown",
   "source": [
    "# BG information about Hyperparameter Search with SKLearn/SKtime"
   ],
   "metadata": {
    "collapsed": false
   }
  },
  {
   "cell_type": "code",
   "execution_count": 4,
   "outputs": [],
   "source": [
    "from sklearn.preprocessing import MinMaxScaler\n",
    "from sklearn.neural_network import MLPRegressor\n",
    "\n",
    "params = {\n",
    " \"LinearRegression__module\" : [LinearRegression(), MLPRegressor()],\n",
    " \"scaler__module\" : [ MinMaxScaler(), StandardScaler()],\n",
    " \"calendar__features\" : [#[CalendarFeature.weekend],\n",
    "                         [CalendarFeature.month_cos, CalendarFeature.month_sine, CalendarFeature.weekend],\n",
    "                         [CalendarFeature.hour_cos, CalendarFeature.hour_sine, CalendarFeature.weekend]],\n",
    "\"lag_features__start\":[-24, -1]\n",
    "}"
   ],
   "metadata": {
    "collapsed": false
   }
  },
  {
   "cell_type": "code",
   "execution_count": 5,
   "outputs": [],
   "source": [
    "data = load_elec_data()\n",
    "train = data.iloc[:6000, :]\n",
    "test = data.iloc[6000:, :]\n"
   ],
   "metadata": {
    "collapsed": false
   }
  },
  {
   "cell_type": "code",
   "execution_count": 6,
   "outputs": [
    {
     "name": "stderr",
     "output_type": "stream",
     "text": [
      "C:\\Users\\bi4372\\.conda\\envs\\pywatts-pipeline\\lib\\site-packages\\sklearn\\neural_network\\_multilayer_perceptron.py:684: ConvergenceWarning: Stochastic Optimizer: Maximum iterations (200) reached and the optimization hasn't converged yet.\n",
      "  warnings.warn(\n",
      "C:\\Users\\bi4372\\.conda\\envs\\pywatts-pipeline\\lib\\site-packages\\sklearn\\neural_network\\_multilayer_perceptron.py:684: ConvergenceWarning: Stochastic Optimizer: Maximum iterations (200) reached and the optimization hasn't converged yet.\n",
      "  warnings.warn(\n",
      "C:\\Users\\bi4372\\.conda\\envs\\pywatts-pipeline\\lib\\site-packages\\sklearn\\neural_network\\_multilayer_perceptron.py:684: ConvergenceWarning: Stochastic Optimizer: Maximum iterations (200) reached and the optimization hasn't converged yet.\n",
      "  warnings.warn(\n",
      "C:\\Users\\bi4372\\.conda\\envs\\pywatts-pipeline\\lib\\site-packages\\sklearn\\neural_network\\_multilayer_perceptron.py:684: ConvergenceWarning: Stochastic Optimizer: Maximum iterations (200) reached and the optimization hasn't converged yet.\n",
      "  warnings.warn(\n",
      "C:\\Users\\bi4372\\.conda\\envs\\pywatts-pipeline\\lib\\site-packages\\sklearn\\neural_network\\_multilayer_perceptron.py:684: ConvergenceWarning: Stochastic Optimizer: Maximum iterations (200) reached and the optimization hasn't converged yet.\n",
      "  warnings.warn(\n"
     ]
    },
    {
     "data": {
      "text/plain": "GridSearchCV(cv=TimeSeriesSplit(gap=0, max_train_size=None, n_splits=5, test_size=672),\n             estimator=Pipeline(model_dict={1: CalendarExtraction(features=[<CalendarFeature.month: 2>,\n                                                                            <CalendarFeature.weekday: 11>,\n                                                                            <CalendarFeature.weekend: 21>]),\n                                            2: SKLearnWrapper(module=StandardScaler()),\n                                            3: Select(start=-2, step=1, stop=0),\n                                            4: Select(start=0, step=1, stop=24),\n                                            5: Select(s...\n             param_grid={'LinearRegression__module': [LinearRegression(),\n                                                      MLPRegressor()],\n                         'calendar__features': [[<CalendarFeature.month_cos: 4>,\n                                                 <CalendarFeature.month_sine: 3>,\n                                                 <CalendarFeature.weekend: 21>],\n                                                [<CalendarFeature.hour_cos: 10>,\n                                                 <CalendarFeature.hour_sine: 9>,\n                                                 <CalendarFeature.weekend: 21>]],\n                         'lag_features__start': [-24, -1],\n                         'scaler__module': [MinMaxScaler(), StandardScaler()]})",
      "text/html": "<style>#sk-container-id-1 {color: black;background-color: white;}#sk-container-id-1 pre{padding: 0;}#sk-container-id-1 div.sk-toggleable {background-color: white;}#sk-container-id-1 label.sk-toggleable__label {cursor: pointer;display: block;width: 100%;margin-bottom: 0;padding: 0.3em;box-sizing: border-box;text-align: center;}#sk-container-id-1 label.sk-toggleable__label-arrow:before {content: \"▸\";float: left;margin-right: 0.25em;color: #696969;}#sk-container-id-1 label.sk-toggleable__label-arrow:hover:before {color: black;}#sk-container-id-1 div.sk-estimator:hover label.sk-toggleable__label-arrow:before {color: black;}#sk-container-id-1 div.sk-toggleable__content {max-height: 0;max-width: 0;overflow: hidden;text-align: left;background-color: #f0f8ff;}#sk-container-id-1 div.sk-toggleable__content pre {margin: 0.2em;color: black;border-radius: 0.25em;background-color: #f0f8ff;}#sk-container-id-1 input.sk-toggleable__control:checked~div.sk-toggleable__content {max-height: 200px;max-width: 100%;overflow: auto;}#sk-container-id-1 input.sk-toggleable__control:checked~label.sk-toggleable__label-arrow:before {content: \"▾\";}#sk-container-id-1 div.sk-estimator input.sk-toggleable__control:checked~label.sk-toggleable__label {background-color: #d4ebff;}#sk-container-id-1 div.sk-label input.sk-toggleable__control:checked~label.sk-toggleable__label {background-color: #d4ebff;}#sk-container-id-1 input.sk-hidden--visually {border: 0;clip: rect(1px 1px 1px 1px);clip: rect(1px, 1px, 1px, 1px);height: 1px;margin: -1px;overflow: hidden;padding: 0;position: absolute;width: 1px;}#sk-container-id-1 div.sk-estimator {font-family: monospace;background-color: #f0f8ff;border: 1px dotted black;border-radius: 0.25em;box-sizing: border-box;margin-bottom: 0.5em;}#sk-container-id-1 div.sk-estimator:hover {background-color: #d4ebff;}#sk-container-id-1 div.sk-parallel-item::after {content: \"\";width: 100%;border-bottom: 1px solid gray;flex-grow: 1;}#sk-container-id-1 div.sk-label:hover label.sk-toggleable__label {background-color: #d4ebff;}#sk-container-id-1 div.sk-serial::before {content: \"\";position: absolute;border-left: 1px solid gray;box-sizing: border-box;top: 0;bottom: 0;left: 50%;z-index: 0;}#sk-container-id-1 div.sk-serial {display: flex;flex-direction: column;align-items: center;background-color: white;padding-right: 0.2em;padding-left: 0.2em;position: relative;}#sk-container-id-1 div.sk-item {position: relative;z-index: 1;}#sk-container-id-1 div.sk-parallel {display: flex;align-items: stretch;justify-content: center;background-color: white;position: relative;}#sk-container-id-1 div.sk-item::before, #sk-container-id-1 div.sk-parallel-item::before {content: \"\";position: absolute;border-left: 1px solid gray;box-sizing: border-box;top: 0;bottom: 0;left: 50%;z-index: -1;}#sk-container-id-1 div.sk-parallel-item {display: flex;flex-direction: column;z-index: 1;position: relative;background-color: white;}#sk-container-id-1 div.sk-parallel-item:first-child::after {align-self: flex-end;width: 50%;}#sk-container-id-1 div.sk-parallel-item:last-child::after {align-self: flex-start;width: 50%;}#sk-container-id-1 div.sk-parallel-item:only-child::after {width: 0;}#sk-container-id-1 div.sk-dashed-wrapped {border: 1px dashed gray;margin: 0 0.4em 0.5em 0.4em;box-sizing: border-box;padding-bottom: 0.4em;background-color: white;}#sk-container-id-1 div.sk-label label {font-family: monospace;font-weight: bold;display: inline-block;line-height: 1.2em;}#sk-container-id-1 div.sk-label-container {text-align: center;}#sk-container-id-1 div.sk-container {/* jupyter's `normalize.less` sets `[hidden] { display: none; }` but bootstrap.min.css set `[hidden] { display: none !important; }` so we also need the `!important` here to be able to override the default hidden behavior on the sphinx rendered scikit-learn.org. See: https://github.com/scikit-learn/scikit-learn/issues/21755 */display: inline-block !important;position: relative;}#sk-container-id-1 div.sk-text-repr-fallback {display: none;}</style><div id=\"sk-container-id-1\" class=\"sk-top-container\"><div class=\"sk-text-repr-fallback\"><pre>GridSearchCV(cv=TimeSeriesSplit(gap=0, max_train_size=None, n_splits=5, test_size=672),\n             estimator=Pipeline(model_dict={1: CalendarExtraction(features=[&lt;CalendarFeature.month: 2&gt;,\n                                                                            &lt;CalendarFeature.weekday: 11&gt;,\n                                                                            &lt;CalendarFeature.weekend: 21&gt;]),\n                                            2: SKLearnWrapper(module=StandardScaler()),\n                                            3: Select(start=-2, step=1, stop=0),\n                                            4: Select(start=0, step=1, stop=24),\n                                            5: Select(s...\n             param_grid={&#x27;LinearRegression__module&#x27;: [LinearRegression(),\n                                                      MLPRegressor()],\n                         &#x27;calendar__features&#x27;: [[&lt;CalendarFeature.month_cos: 4&gt;,\n                                                 &lt;CalendarFeature.month_sine: 3&gt;,\n                                                 &lt;CalendarFeature.weekend: 21&gt;],\n                                                [&lt;CalendarFeature.hour_cos: 10&gt;,\n                                                 &lt;CalendarFeature.hour_sine: 9&gt;,\n                                                 &lt;CalendarFeature.weekend: 21&gt;]],\n                         &#x27;lag_features__start&#x27;: [-24, -1],\n                         &#x27;scaler__module&#x27;: [MinMaxScaler(), StandardScaler()]})</pre><b>In a Jupyter environment, please rerun this cell to show the HTML representation or trust the notebook. <br />On GitHub, the HTML representation is unable to render, please try loading this page with nbviewer.org.</b></div><div class=\"sk-container\" hidden><div class=\"sk-item sk-dashed-wrapped\"><div class=\"sk-label-container\"><div class=\"sk-label sk-toggleable\"><input class=\"sk-toggleable__control sk-hidden--visually\" id=\"sk-estimator-id-1\" type=\"checkbox\" ><label for=\"sk-estimator-id-1\" class=\"sk-toggleable__label sk-toggleable__label-arrow\">GridSearchCV</label><div class=\"sk-toggleable__content\"><pre>GridSearchCV(cv=TimeSeriesSplit(gap=0, max_train_size=None, n_splits=5, test_size=672),\n             estimator=Pipeline(model_dict={1: CalendarExtraction(features=[&lt;CalendarFeature.month: 2&gt;,\n                                                                            &lt;CalendarFeature.weekday: 11&gt;,\n                                                                            &lt;CalendarFeature.weekend: 21&gt;]),\n                                            2: SKLearnWrapper(module=StandardScaler()),\n                                            3: Select(start=-2, step=1, stop=0),\n                                            4: Select(start=0, step=1, stop=24),\n                                            5: Select(s...\n             param_grid={&#x27;LinearRegression__module&#x27;: [LinearRegression(),\n                                                      MLPRegressor()],\n                         &#x27;calendar__features&#x27;: [[&lt;CalendarFeature.month_cos: 4&gt;,\n                                                 &lt;CalendarFeature.month_sine: 3&gt;,\n                                                 &lt;CalendarFeature.weekend: 21&gt;],\n                                                [&lt;CalendarFeature.hour_cos: 10&gt;,\n                                                 &lt;CalendarFeature.hour_sine: 9&gt;,\n                                                 &lt;CalendarFeature.weekend: 21&gt;]],\n                         &#x27;lag_features__start&#x27;: [-24, -1],\n                         &#x27;scaler__module&#x27;: [MinMaxScaler(), StandardScaler()]})</pre></div></div></div><div class=\"sk-parallel\"><div class=\"sk-parallel-item\"><div class=\"sk-item\"><div class=\"sk-label-container\"><div class=\"sk-label sk-toggleable\"><input class=\"sk-toggleable__control sk-hidden--visually\" id=\"sk-estimator-id-2\" type=\"checkbox\" ><label for=\"sk-estimator-id-2\" class=\"sk-toggleable__label sk-toggleable__label-arrow\">estimator: Pipeline</label><div class=\"sk-toggleable__content\"><pre>Pipeline(model_dict={1: CalendarExtraction(features=[&lt;CalendarFeature.month: 2&gt;,\n                                                     &lt;CalendarFeature.weekday: 11&gt;,\n                                                     &lt;CalendarFeature.weekend: 21&gt;]),\n                     2: SKLearnWrapper(module=StandardScaler()),\n                     3: Select(start=-2, step=1, stop=0),\n                     4: Select(start=0, step=1, stop=24),\n                     5: Select(start=0, step=1, stop=24),\n                     6: SKLearnWrapper(module=LinearRegression()),\n                     8: RMSE(cuts=[])},\n         path=&#x27;../r...\n                  &#x27;computation_mode&#x27;: &lt;ComputationMode.Transform: 1&gt;,\n                  &#x27;condition&#x27;: None, &#x27;lag&#x27;: Timedelta(&#x27;0 days 00:00:00&#x27;),\n                  &#x27;method&#x27;: &#x27;inverse_transform&#x27;, &#x27;refit_conditions&#x27;: []}],\n                [8, &#x27;rmse&#x27;, {&#x27;y&#x27;: &#x27;sampled_data_1&#x27;, &#x27;y_hat&#x27;: &#x27;scaler_1&#x27;},\n                 {&#x27;callbacks&#x27;: [],\n                  &#x27;computation_mode&#x27;: &lt;ComputationMode.Default: 4&gt;,\n                  &#x27;condition&#x27;: None, &#x27;lag&#x27;: Timedelta(&#x27;0 days 00:00:00&#x27;),\n                  &#x27;method&#x27;: None, &#x27;refit_conditions&#x27;: []}]])</pre></div></div></div><div class=\"sk-serial\"><div class=\"sk-item\"><div class=\"sk-estimator sk-toggleable\"><input class=\"sk-toggleable__control sk-hidden--visually\" id=\"sk-estimator-id-3\" type=\"checkbox\" ><label for=\"sk-estimator-id-3\" class=\"sk-toggleable__label sk-toggleable__label-arrow\">Pipeline</label><div class=\"sk-toggleable__content\"><pre>Pipeline(model_dict={1: CalendarExtraction(features=[&lt;CalendarFeature.month: 2&gt;,\n                                                     &lt;CalendarFeature.weekday: 11&gt;,\n                                                     &lt;CalendarFeature.weekend: 21&gt;]),\n                     2: SKLearnWrapper(module=StandardScaler()),\n                     3: Select(start=-2, step=1, stop=0),\n                     4: Select(start=0, step=1, stop=24),\n                     5: Select(start=0, step=1, stop=24),\n                     6: SKLearnWrapper(module=LinearRegression()),\n                     8: RMSE(cuts=[])},\n         path=&#x27;../r...\n                  &#x27;computation_mode&#x27;: &lt;ComputationMode.Transform: 1&gt;,\n                  &#x27;condition&#x27;: None, &#x27;lag&#x27;: Timedelta(&#x27;0 days 00:00:00&#x27;),\n                  &#x27;method&#x27;: &#x27;inverse_transform&#x27;, &#x27;refit_conditions&#x27;: []}],\n                [8, &#x27;rmse&#x27;, {&#x27;y&#x27;: &#x27;sampled_data_1&#x27;, &#x27;y_hat&#x27;: &#x27;scaler_1&#x27;},\n                 {&#x27;callbacks&#x27;: [],\n                  &#x27;computation_mode&#x27;: &lt;ComputationMode.Default: 4&gt;,\n                  &#x27;condition&#x27;: None, &#x27;lag&#x27;: Timedelta(&#x27;0 days 00:00:00&#x27;),\n                  &#x27;method&#x27;: None, &#x27;refit_conditions&#x27;: []}]])</pre></div></div></div></div></div></div></div></div></div></div>"
     },
     "execution_count": 6,
     "metadata": {},
     "output_type": "execute_result"
    }
   ],
   "source": [
    "tscv = TimeSeriesSplit(test_size=168*4)\n",
    "pipeline_cv = GridSearchCV(pipeline, param_grid=params, cv=tscv)\n",
    "pipeline_cv.fit(data)"
   ],
   "metadata": {
    "collapsed": false
   }
  },
  {
   "cell_type": "code",
   "execution_count": 7,
   "outputs": [
    {
     "data": {
      "text/plain": "{'LinearRegression__module': MLPRegressor(),\n 'calendar__features': [<CalendarFeature.hour_cos: 10>,\n  <CalendarFeature.hour_sine: 9>,\n  <CalendarFeature.weekend: 21>],\n 'lag_features__start': -24,\n 'scaler__module': StandardScaler()}"
     },
     "execution_count": 7,
     "metadata": {},
     "output_type": "execute_result"
    }
   ],
   "source": [
    "pipeline_cv.best_params_"
   ],
   "metadata": {
    "collapsed": false
   }
  },
  {
   "cell_type": "markdown",
   "source": [],
   "metadata": {
    "collapsed": false
   }
  },
  {
   "cell_type": "code",
   "execution_count": 8,
   "outputs": [
    {
     "data": {
      "text/plain": "    mean_fit_time  std_fit_time  mean_score_time  std_score_time  \\\n0        0.336295      0.071687         0.880754        0.106767   \n1        0.331599      0.040379         0.848463        0.048180   \n2        0.191808      0.020085         0.736825        0.062662   \n3        0.232735      0.050545         0.713987        0.022845   \n4        0.315117      0.101431         0.975843        0.240313   \n5        0.254851      0.027814         0.814848        0.030345   \n6        0.257607      0.079453         0.757027        0.023223   \n7        0.178563      0.009351         0.707619        0.043441   \n8        1.588793      0.190039         0.879886        0.152345   \n9        9.738287      0.919881         0.812768        0.056028   \n10       1.060644      0.118149         0.767174        0.102430   \n11       7.234069      1.192493         0.725139        0.037871   \n12       1.802326      0.239277         0.824664        0.093996   \n13       8.928767      1.618423         0.810324        0.025818   \n14       1.138689      0.099505         0.736862        0.035374   \n15       7.250994      1.354144         0.831596        0.122954   \n\n   param_LinearRegression__module  \\\n0              LinearRegression()   \n1              LinearRegression()   \n2              LinearRegression()   \n3              LinearRegression()   \n4              LinearRegression()   \n5              LinearRegression()   \n6              LinearRegression()   \n7              LinearRegression()   \n8                  MLPRegressor()   \n9                  MLPRegressor()   \n10                 MLPRegressor()   \n11                 MLPRegressor()   \n12                 MLPRegressor()   \n13                 MLPRegressor()   \n14                 MLPRegressor()   \n15                 MLPRegressor()   \n\n                             param_calendar__features  \\\n0   [CalendarFeature.month_cos, CalendarFeature.mo...   \n1   [CalendarFeature.month_cos, CalendarFeature.mo...   \n2   [CalendarFeature.month_cos, CalendarFeature.mo...   \n3   [CalendarFeature.month_cos, CalendarFeature.mo...   \n4   [CalendarFeature.hour_cos, CalendarFeature.hou...   \n5   [CalendarFeature.hour_cos, CalendarFeature.hou...   \n6   [CalendarFeature.hour_cos, CalendarFeature.hou...   \n7   [CalendarFeature.hour_cos, CalendarFeature.hou...   \n8   [CalendarFeature.month_cos, CalendarFeature.mo...   \n9   [CalendarFeature.month_cos, CalendarFeature.mo...   \n10  [CalendarFeature.month_cos, CalendarFeature.mo...   \n11  [CalendarFeature.month_cos, CalendarFeature.mo...   \n12  [CalendarFeature.hour_cos, CalendarFeature.hou...   \n13  [CalendarFeature.hour_cos, CalendarFeature.hou...   \n14  [CalendarFeature.hour_cos, CalendarFeature.hou...   \n15  [CalendarFeature.hour_cos, CalendarFeature.hou...   \n\n   param_lag_features__start param_scaler__module  \\\n0                        -24       MinMaxScaler()   \n1                        -24     StandardScaler()   \n2                         -1       MinMaxScaler()   \n3                         -1     StandardScaler()   \n4                        -24       MinMaxScaler()   \n5                        -24     StandardScaler()   \n6                         -1       MinMaxScaler()   \n7                         -1     StandardScaler()   \n8                        -24       MinMaxScaler()   \n9                        -24     StandardScaler()   \n10                        -1       MinMaxScaler()   \n11                        -1     StandardScaler()   \n12                       -24       MinMaxScaler()   \n13                       -24     StandardScaler()   \n14                        -1       MinMaxScaler()   \n15                        -1     StandardScaler()   \n\n                                               params  split0_test_score  \\\n0   {'LinearRegression__module': LinearRegression(...       -4562.071686   \n1   {'LinearRegression__module': LinearRegression(...       -4562.071686   \n2   {'LinearRegression__module': LinearRegression(...       -7505.839695   \n3   {'LinearRegression__module': LinearRegression(...       -7505.839695   \n4   {'LinearRegression__module': LinearRegression(...       -4633.884418   \n5   {'LinearRegression__module': LinearRegression(...       -4633.884418   \n6   {'LinearRegression__module': LinearRegression(...       -5582.536298   \n7   {'LinearRegression__module': LinearRegression(...       -5582.536298   \n8   {'LinearRegression__module': MLPRegressor(), '...       -3462.053374   \n9   {'LinearRegression__module': MLPRegressor(), '...       -2373.364927   \n10  {'LinearRegression__module': MLPRegressor(), '...       -7406.270927   \n11  {'LinearRegression__module': MLPRegressor(), '...       -6792.513460   \n12  {'LinearRegression__module': MLPRegressor(), '...       -3159.642290   \n13  {'LinearRegression__module': MLPRegressor(), '...       -2213.297068   \n14  {'LinearRegression__module': MLPRegressor(), '...       -4310.159851   \n15  {'LinearRegression__module': MLPRegressor(), '...       -3627.579639   \n\n    split1_test_score  split2_test_score  split3_test_score  \\\n0        -5153.797094       -4723.804833       -4357.790354   \n1        -5153.797094       -4723.804833       -4357.790354   \n2        -7913.076257       -7902.796545       -7676.227133   \n3        -7913.076257       -7902.796545       -7676.227133   \n4        -5035.476085       -4487.768758       -4788.279849   \n5        -5035.476085       -4487.768758       -4788.279849   \n6        -5910.226909       -5748.953391       -6075.504761   \n7        -5910.226909       -5748.953391       -6075.504761   \n8        -4400.655184       -4271.739363       -4318.431760   \n9        -3517.089395       -3091.455116       -2993.381131   \n10       -7926.140486       -8033.955906       -8532.919206   \n11       -7495.080909       -8076.494584       -8919.673185   \n12       -3853.364924       -3621.380636       -3536.197356   \n13       -3398.552157       -3293.924035       -2543.102136   \n14       -4807.648173       -4591.628852       -4643.980183   \n15       -4453.167953       -4389.059065       -4480.977727   \n\n    split4_test_score  mean_test_score  std_test_score  rank_test_score  \n0        -6571.085664     -5073.709926      793.132543                9  \n1        -6571.085664     -5073.709926      793.132543               10  \n2       -10031.515002     -8205.890926      925.324306               14  \n3       -10031.515002     -8205.890926      925.324306               14  \n4        -4760.298482     -4741.141519      181.617009                8  \n5        -4760.298482     -4741.141519      181.617009                7  \n6        -6230.633594     -5909.570991      229.506142               11  \n7        -6230.633594     -5909.570991      229.506142               12  \n8        -7001.810782     -4690.938093     1204.079976                5  \n9        -6556.978840     -3706.453882     1471.405712                2  \n10       -9552.721052     -8290.401515      725.589800               16  \n11       -9356.477084     -8128.047844      929.802780               13  \n12       -5633.232136     -3960.763469      865.553941                3  \n13       -6007.691775     -3491.313434     1335.077352                1  \n14       -5145.964571     -4699.876326      274.710873                6  \n15       -5037.100959     -4397.577069      449.890080                4  ",
      "text/html": "<div>\n<style scoped>\n    .dataframe tbody tr th:only-of-type {\n        vertical-align: middle;\n    }\n\n    .dataframe tbody tr th {\n        vertical-align: top;\n    }\n\n    .dataframe thead th {\n        text-align: right;\n    }\n</style>\n<table border=\"1\" class=\"dataframe\">\n  <thead>\n    <tr style=\"text-align: right;\">\n      <th></th>\n      <th>mean_fit_time</th>\n      <th>std_fit_time</th>\n      <th>mean_score_time</th>\n      <th>std_score_time</th>\n      <th>param_LinearRegression__module</th>\n      <th>param_calendar__features</th>\n      <th>param_lag_features__start</th>\n      <th>param_scaler__module</th>\n      <th>params</th>\n      <th>split0_test_score</th>\n      <th>split1_test_score</th>\n      <th>split2_test_score</th>\n      <th>split3_test_score</th>\n      <th>split4_test_score</th>\n      <th>mean_test_score</th>\n      <th>std_test_score</th>\n      <th>rank_test_score</th>\n    </tr>\n  </thead>\n  <tbody>\n    <tr>\n      <th>0</th>\n      <td>0.336295</td>\n      <td>0.071687</td>\n      <td>0.880754</td>\n      <td>0.106767</td>\n      <td>LinearRegression()</td>\n      <td>[CalendarFeature.month_cos, CalendarFeature.mo...</td>\n      <td>-24</td>\n      <td>MinMaxScaler()</td>\n      <td>{'LinearRegression__module': LinearRegression(...</td>\n      <td>-4562.071686</td>\n      <td>-5153.797094</td>\n      <td>-4723.804833</td>\n      <td>-4357.790354</td>\n      <td>-6571.085664</td>\n      <td>-5073.709926</td>\n      <td>793.132543</td>\n      <td>9</td>\n    </tr>\n    <tr>\n      <th>1</th>\n      <td>0.331599</td>\n      <td>0.040379</td>\n      <td>0.848463</td>\n      <td>0.048180</td>\n      <td>LinearRegression()</td>\n      <td>[CalendarFeature.month_cos, CalendarFeature.mo...</td>\n      <td>-24</td>\n      <td>StandardScaler()</td>\n      <td>{'LinearRegression__module': LinearRegression(...</td>\n      <td>-4562.071686</td>\n      <td>-5153.797094</td>\n      <td>-4723.804833</td>\n      <td>-4357.790354</td>\n      <td>-6571.085664</td>\n      <td>-5073.709926</td>\n      <td>793.132543</td>\n      <td>10</td>\n    </tr>\n    <tr>\n      <th>2</th>\n      <td>0.191808</td>\n      <td>0.020085</td>\n      <td>0.736825</td>\n      <td>0.062662</td>\n      <td>LinearRegression()</td>\n      <td>[CalendarFeature.month_cos, CalendarFeature.mo...</td>\n      <td>-1</td>\n      <td>MinMaxScaler()</td>\n      <td>{'LinearRegression__module': LinearRegression(...</td>\n      <td>-7505.839695</td>\n      <td>-7913.076257</td>\n      <td>-7902.796545</td>\n      <td>-7676.227133</td>\n      <td>-10031.515002</td>\n      <td>-8205.890926</td>\n      <td>925.324306</td>\n      <td>14</td>\n    </tr>\n    <tr>\n      <th>3</th>\n      <td>0.232735</td>\n      <td>0.050545</td>\n      <td>0.713987</td>\n      <td>0.022845</td>\n      <td>LinearRegression()</td>\n      <td>[CalendarFeature.month_cos, CalendarFeature.mo...</td>\n      <td>-1</td>\n      <td>StandardScaler()</td>\n      <td>{'LinearRegression__module': LinearRegression(...</td>\n      <td>-7505.839695</td>\n      <td>-7913.076257</td>\n      <td>-7902.796545</td>\n      <td>-7676.227133</td>\n      <td>-10031.515002</td>\n      <td>-8205.890926</td>\n      <td>925.324306</td>\n      <td>14</td>\n    </tr>\n    <tr>\n      <th>4</th>\n      <td>0.315117</td>\n      <td>0.101431</td>\n      <td>0.975843</td>\n      <td>0.240313</td>\n      <td>LinearRegression()</td>\n      <td>[CalendarFeature.hour_cos, CalendarFeature.hou...</td>\n      <td>-24</td>\n      <td>MinMaxScaler()</td>\n      <td>{'LinearRegression__module': LinearRegression(...</td>\n      <td>-4633.884418</td>\n      <td>-5035.476085</td>\n      <td>-4487.768758</td>\n      <td>-4788.279849</td>\n      <td>-4760.298482</td>\n      <td>-4741.141519</td>\n      <td>181.617009</td>\n      <td>8</td>\n    </tr>\n    <tr>\n      <th>5</th>\n      <td>0.254851</td>\n      <td>0.027814</td>\n      <td>0.814848</td>\n      <td>0.030345</td>\n      <td>LinearRegression()</td>\n      <td>[CalendarFeature.hour_cos, CalendarFeature.hou...</td>\n      <td>-24</td>\n      <td>StandardScaler()</td>\n      <td>{'LinearRegression__module': LinearRegression(...</td>\n      <td>-4633.884418</td>\n      <td>-5035.476085</td>\n      <td>-4487.768758</td>\n      <td>-4788.279849</td>\n      <td>-4760.298482</td>\n      <td>-4741.141519</td>\n      <td>181.617009</td>\n      <td>7</td>\n    </tr>\n    <tr>\n      <th>6</th>\n      <td>0.257607</td>\n      <td>0.079453</td>\n      <td>0.757027</td>\n      <td>0.023223</td>\n      <td>LinearRegression()</td>\n      <td>[CalendarFeature.hour_cos, CalendarFeature.hou...</td>\n      <td>-1</td>\n      <td>MinMaxScaler()</td>\n      <td>{'LinearRegression__module': LinearRegression(...</td>\n      <td>-5582.536298</td>\n      <td>-5910.226909</td>\n      <td>-5748.953391</td>\n      <td>-6075.504761</td>\n      <td>-6230.633594</td>\n      <td>-5909.570991</td>\n      <td>229.506142</td>\n      <td>11</td>\n    </tr>\n    <tr>\n      <th>7</th>\n      <td>0.178563</td>\n      <td>0.009351</td>\n      <td>0.707619</td>\n      <td>0.043441</td>\n      <td>LinearRegression()</td>\n      <td>[CalendarFeature.hour_cos, CalendarFeature.hou...</td>\n      <td>-1</td>\n      <td>StandardScaler()</td>\n      <td>{'LinearRegression__module': LinearRegression(...</td>\n      <td>-5582.536298</td>\n      <td>-5910.226909</td>\n      <td>-5748.953391</td>\n      <td>-6075.504761</td>\n      <td>-6230.633594</td>\n      <td>-5909.570991</td>\n      <td>229.506142</td>\n      <td>12</td>\n    </tr>\n    <tr>\n      <th>8</th>\n      <td>1.588793</td>\n      <td>0.190039</td>\n      <td>0.879886</td>\n      <td>0.152345</td>\n      <td>MLPRegressor()</td>\n      <td>[CalendarFeature.month_cos, CalendarFeature.mo...</td>\n      <td>-24</td>\n      <td>MinMaxScaler()</td>\n      <td>{'LinearRegression__module': MLPRegressor(), '...</td>\n      <td>-3462.053374</td>\n      <td>-4400.655184</td>\n      <td>-4271.739363</td>\n      <td>-4318.431760</td>\n      <td>-7001.810782</td>\n      <td>-4690.938093</td>\n      <td>1204.079976</td>\n      <td>5</td>\n    </tr>\n    <tr>\n      <th>9</th>\n      <td>9.738287</td>\n      <td>0.919881</td>\n      <td>0.812768</td>\n      <td>0.056028</td>\n      <td>MLPRegressor()</td>\n      <td>[CalendarFeature.month_cos, CalendarFeature.mo...</td>\n      <td>-24</td>\n      <td>StandardScaler()</td>\n      <td>{'LinearRegression__module': MLPRegressor(), '...</td>\n      <td>-2373.364927</td>\n      <td>-3517.089395</td>\n      <td>-3091.455116</td>\n      <td>-2993.381131</td>\n      <td>-6556.978840</td>\n      <td>-3706.453882</td>\n      <td>1471.405712</td>\n      <td>2</td>\n    </tr>\n    <tr>\n      <th>10</th>\n      <td>1.060644</td>\n      <td>0.118149</td>\n      <td>0.767174</td>\n      <td>0.102430</td>\n      <td>MLPRegressor()</td>\n      <td>[CalendarFeature.month_cos, CalendarFeature.mo...</td>\n      <td>-1</td>\n      <td>MinMaxScaler()</td>\n      <td>{'LinearRegression__module': MLPRegressor(), '...</td>\n      <td>-7406.270927</td>\n      <td>-7926.140486</td>\n      <td>-8033.955906</td>\n      <td>-8532.919206</td>\n      <td>-9552.721052</td>\n      <td>-8290.401515</td>\n      <td>725.589800</td>\n      <td>16</td>\n    </tr>\n    <tr>\n      <th>11</th>\n      <td>7.234069</td>\n      <td>1.192493</td>\n      <td>0.725139</td>\n      <td>0.037871</td>\n      <td>MLPRegressor()</td>\n      <td>[CalendarFeature.month_cos, CalendarFeature.mo...</td>\n      <td>-1</td>\n      <td>StandardScaler()</td>\n      <td>{'LinearRegression__module': MLPRegressor(), '...</td>\n      <td>-6792.513460</td>\n      <td>-7495.080909</td>\n      <td>-8076.494584</td>\n      <td>-8919.673185</td>\n      <td>-9356.477084</td>\n      <td>-8128.047844</td>\n      <td>929.802780</td>\n      <td>13</td>\n    </tr>\n    <tr>\n      <th>12</th>\n      <td>1.802326</td>\n      <td>0.239277</td>\n      <td>0.824664</td>\n      <td>0.093996</td>\n      <td>MLPRegressor()</td>\n      <td>[CalendarFeature.hour_cos, CalendarFeature.hou...</td>\n      <td>-24</td>\n      <td>MinMaxScaler()</td>\n      <td>{'LinearRegression__module': MLPRegressor(), '...</td>\n      <td>-3159.642290</td>\n      <td>-3853.364924</td>\n      <td>-3621.380636</td>\n      <td>-3536.197356</td>\n      <td>-5633.232136</td>\n      <td>-3960.763469</td>\n      <td>865.553941</td>\n      <td>3</td>\n    </tr>\n    <tr>\n      <th>13</th>\n      <td>8.928767</td>\n      <td>1.618423</td>\n      <td>0.810324</td>\n      <td>0.025818</td>\n      <td>MLPRegressor()</td>\n      <td>[CalendarFeature.hour_cos, CalendarFeature.hou...</td>\n      <td>-24</td>\n      <td>StandardScaler()</td>\n      <td>{'LinearRegression__module': MLPRegressor(), '...</td>\n      <td>-2213.297068</td>\n      <td>-3398.552157</td>\n      <td>-3293.924035</td>\n      <td>-2543.102136</td>\n      <td>-6007.691775</td>\n      <td>-3491.313434</td>\n      <td>1335.077352</td>\n      <td>1</td>\n    </tr>\n    <tr>\n      <th>14</th>\n      <td>1.138689</td>\n      <td>0.099505</td>\n      <td>0.736862</td>\n      <td>0.035374</td>\n      <td>MLPRegressor()</td>\n      <td>[CalendarFeature.hour_cos, CalendarFeature.hou...</td>\n      <td>-1</td>\n      <td>MinMaxScaler()</td>\n      <td>{'LinearRegression__module': MLPRegressor(), '...</td>\n      <td>-4310.159851</td>\n      <td>-4807.648173</td>\n      <td>-4591.628852</td>\n      <td>-4643.980183</td>\n      <td>-5145.964571</td>\n      <td>-4699.876326</td>\n      <td>274.710873</td>\n      <td>6</td>\n    </tr>\n    <tr>\n      <th>15</th>\n      <td>7.250994</td>\n      <td>1.354144</td>\n      <td>0.831596</td>\n      <td>0.122954</td>\n      <td>MLPRegressor()</td>\n      <td>[CalendarFeature.hour_cos, CalendarFeature.hou...</td>\n      <td>-1</td>\n      <td>StandardScaler()</td>\n      <td>{'LinearRegression__module': MLPRegressor(), '...</td>\n      <td>-3627.579639</td>\n      <td>-4453.167953</td>\n      <td>-4389.059065</td>\n      <td>-4480.977727</td>\n      <td>-5037.100959</td>\n      <td>-4397.577069</td>\n      <td>449.890080</td>\n      <td>4</td>\n    </tr>\n  </tbody>\n</table>\n</div>"
     },
     "execution_count": 8,
     "metadata": {},
     "output_type": "execute_result"
    }
   ],
   "source": [
    "pd.DataFrame(pipeline_cv.cv_results_)"
   ],
   "metadata": {
    "collapsed": false
   }
  },
  {
   "cell_type": "markdown",
   "source": [
    "## Hyperparameter search for Non-Sequential Electricity Price Forecasting Pipeline\n",
    "\n",
    "The second pipeline combines the power of pyWATTS to model non-sequential pipelines with the GridSearch from sklearn. Thus, we define the following non-sequential pipeline that predicts the electricity price of the next day based on calendar information, historical information, and a 48 hour load forecast.\n",
    "\n",
    "\n",
    "In this notebook, we consider the following simple forecasting scenario. We aim to forecast the day-ahead electricity price. Since the electricity price is dependent on the electrical demand, we create a pipeline that forecasts the electricity demand and uses this forecast as an input for the electricity price forecast. As additional information, we use calendar features.\n",
    "So we use the following transformers in this pipeline and search for the best hyperparameter:\n",
    "* CalendarExtraction\n",
    "  * List of features\n",
    "* Scaler for the Electricity price\n",
    "* Scaler for the Electricity demand\n",
    "* Forecaster for the Electricity price\n",
    "* Forecaster for the Electricity demand\n"
   ],
   "metadata": {
    "collapsed": false
   }
  },
  {
   "cell_type": "code",
   "execution_count": 9,
   "outputs": [
    {
     "name": "stderr",
     "output_type": "stream",
     "text": [
      "C:\\Users\\bi4372\\PycharmProjects\\pywatts-pipeline\\pywatts_pipeline\\core\\transformer\\base.py:205: UserWarning: The step with name SampleModule is renamed to SampleModule_1 due to naming conflicts.\n",
      "  warnings.warn(f\"The step with name {self.name} is renamed to {name} due to naming conflicts.\")\n",
      "C:\\Users\\bi4372\\PycharmProjects\\pywatts-pipeline\\pywatts_pipeline\\core\\transformer\\base.py:205: UserWarning: The step with name scaler_price is renamed to scaler_price_1 due to naming conflicts.\n",
      "  warnings.warn(f\"The step with name {self.name} is renamed to {name} due to naming conflicts.\")\n"
     ]
    }
   ],
   "source": [
    "# Create a pipeline\n",
    "pipeline = Pipeline(path=\"../results\")\n",
    "\n",
    "# Extract dummy calendar features, using holidays from Germany\n",
    "# NOTE: CalendarExtraction can't return multiple features.\n",
    "calendar = CalendarExtraction(continent=\"Europe\",\n",
    "                              country=\"Germany\",\n",
    "                              features=[CalendarFeature.month,CalendarFeature.weekday,\n",
    "                                        CalendarFeature.weekend],\n",
    "                              name=\"calendar\"\n",
    "                              )(x=pipeline[\"load_power_statistics\"])\n",
    "\n",
    "calendar_load = Select(start=0, stop=24, step=1)(x=calendar)\n",
    "calendar_price = Select(start=0, stop=48, step=1)(x=calendar)\n",
    "\n",
    "# Scale the data using a standard SKLearn scaler\n",
    "power_scaler = SKLearnWrapper(module=StandardScaler(), name=\"scaler_power\")\n",
    "scale_power = power_scaler(x=pipeline[\"load_power_statistics\"])\n",
    "\n",
    "price_scaler = SKLearnWrapper(module=StandardScaler(), name=\"scaler_price\")\n",
    "scale_price = price_scaler(x=pipeline[\"price_day_ahead\"])\n",
    "\n",
    "# Create lagged time series to later be used as regressors\n",
    "lag_features_load = Select(start=-24, stop=0, step=1, name=\"lag_features_load\")(x=scale_power)\n",
    "lag_features_price = Select(start=-24, stop=0, step=1, name=\"lag_features_price\")(x=scale_price)\n",
    "\n",
    "target_load = Select(start=0, stop=48, step=1, name=\"load_hist\")(x=scale_power)\n",
    "target_price = Select(start=0, stop=24, step=1, name=\"price_hist\")(x=scale_price)\n",
    "\n",
    "target_price_unscaled = Select(start=0, stop=24, step=1, name=\"target\")(x=pipeline[\"price_day_ahead\"])\n",
    "\n",
    "# Create a linear regression that uses the lagged values to predict the current value\n",
    "# NOTE: SKLearnWrapper has to collect all **kwargs itself and fit it against target.\n",
    "#       It is also possible to implement a join/collect class\n",
    "forecast_load = SKLearnWrapper(module=LinearRegression(fit_intercept=True), name=\"load_forecast\")(\n",
    "    features=lag_features_load,\n",
    "    calendar=calendar_load,\n",
    "    target=target_load,\n",
    ")\n",
    "\n",
    "forecast_price_scaled = SKLearnWrapper(module=LinearRegression(fit_intercept=True), name=\"price_forecast\")(\n",
    "    features=lag_features_price,\n",
    "    calendar=calendar_price,\n",
    "    load=forecast_load,\n",
    "    target=target_price,\n",
    ")\n",
    "\n",
    "# Rescale the predictions to be on the original time scale\n",
    "forecast_price = price_scaler(\n",
    "    x=forecast_price_scaled, computation_mode=ComputationMode.Transform,\n",
    "    method=\"inverse_transform\", callbacks=[LinePlotCallback(\"rescale\")]\n",
    ")\n",
    "\n",
    "# Calculate the root mean squared error (RMSE) between the linear regression and the true values\n",
    "# save it as csv file\n",
    "rmse = RMSE(name=\"rmse\")(y_hat=forecast_price, y=target_price_unscaled)\n",
    "\n",
    "pipeline.set_score(\"rmse\", direction=\"lower\")"
   ],
   "metadata": {
    "collapsed": false
   }
  },
  {
   "cell_type": "code",
   "execution_count": 10,
   "outputs": [],
   "source": [
    "\n",
    "params = {\n",
    "    \"load_forecast__module\": [LinearRegression(), MLPRegressor()],\n",
    "    \"price_forecast__module\": [LinearRegression(), MLPRegressor()],\n",
    "    \"scaler_power__module\": [MinMaxScaler(), StandardScaler()],\n",
    "    \"scaler_price__module\": [MinMaxScaler(), StandardScaler()],\n",
    "    \"calendar__features\": [[CalendarFeature.month_cos, CalendarFeature.month_sine, CalendarFeature.weekend],\n",
    "                           [CalendarFeature.hour_cos, CalendarFeature.hour_sine, CalendarFeature.weekend]],\n",
    "}"
   ],
   "metadata": {
    "collapsed": false
   }
  },
  {
   "cell_type": "code",
   "execution_count": 10,
   "outputs": [],
   "source": [],
   "metadata": {
    "collapsed": false
   }
  },
  {
   "cell_type": "code",
   "execution_count": 11,
   "outputs": [
    {
     "data": {
      "text/plain": "-12.726233709498345"
     },
     "execution_count": 11,
     "metadata": {},
     "output_type": "execute_result"
    }
   ],
   "source": [
    "result, summary = pipeline.train(data=train)\n",
    "\n",
    "#pipeline.test(data=test)\n",
    "pipeline.score(data.iloc[6000:, :])\n"
   ],
   "metadata": {
    "collapsed": false
   }
  },
  {
   "cell_type": "code",
   "execution_count": 12,
   "outputs": [
    {
     "name": "stderr",
     "output_type": "stream",
     "text": [
      "C:\\Users\\bi4372\\.conda\\envs\\pywatts-pipeline\\lib\\site-packages\\sklearn\\neural_network\\_multilayer_perceptron.py:684: ConvergenceWarning: Stochastic Optimizer: Maximum iterations (200) reached and the optimization hasn't converged yet.\n",
      "  warnings.warn(\n",
      "C:\\Users\\bi4372\\.conda\\envs\\pywatts-pipeline\\lib\\site-packages\\sklearn\\neural_network\\_multilayer_perceptron.py:684: ConvergenceWarning: Stochastic Optimizer: Maximum iterations (200) reached and the optimization hasn't converged yet.\n",
      "  warnings.warn(\n",
      "C:\\Users\\bi4372\\.conda\\envs\\pywatts-pipeline\\lib\\site-packages\\sklearn\\neural_network\\_multilayer_perceptron.py:684: ConvergenceWarning: Stochastic Optimizer: Maximum iterations (200) reached and the optimization hasn't converged yet.\n",
      "  warnings.warn(\n",
      "C:\\Users\\bi4372\\.conda\\envs\\pywatts-pipeline\\lib\\site-packages\\sklearn\\neural_network\\_multilayer_perceptron.py:684: ConvergenceWarning: Stochastic Optimizer: Maximum iterations (200) reached and the optimization hasn't converged yet.\n",
      "  warnings.warn(\n",
      "C:\\Users\\bi4372\\.conda\\envs\\pywatts-pipeline\\lib\\site-packages\\sklearn\\neural_network\\_multilayer_perceptron.py:684: ConvergenceWarning: Stochastic Optimizer: Maximum iterations (200) reached and the optimization hasn't converged yet.\n",
      "  warnings.warn(\n",
      "C:\\Users\\bi4372\\.conda\\envs\\pywatts-pipeline\\lib\\site-packages\\sklearn\\neural_network\\_multilayer_perceptron.py:684: ConvergenceWarning: Stochastic Optimizer: Maximum iterations (200) reached and the optimization hasn't converged yet.\n",
      "  warnings.warn(\n",
      "C:\\Users\\bi4372\\.conda\\envs\\pywatts-pipeline\\lib\\site-packages\\sklearn\\neural_network\\_multilayer_perceptron.py:684: ConvergenceWarning: Stochastic Optimizer: Maximum iterations (200) reached and the optimization hasn't converged yet.\n",
      "  warnings.warn(\n",
      "C:\\Users\\bi4372\\.conda\\envs\\pywatts-pipeline\\lib\\site-packages\\sklearn\\neural_network\\_multilayer_perceptron.py:684: ConvergenceWarning: Stochastic Optimizer: Maximum iterations (200) reached and the optimization hasn't converged yet.\n",
      "  warnings.warn(\n",
      "C:\\Users\\bi4372\\.conda\\envs\\pywatts-pipeline\\lib\\site-packages\\sklearn\\neural_network\\_multilayer_perceptron.py:684: ConvergenceWarning: Stochastic Optimizer: Maximum iterations (200) reached and the optimization hasn't converged yet.\n",
      "  warnings.warn(\n",
      "C:\\Users\\bi4372\\.conda\\envs\\pywatts-pipeline\\lib\\site-packages\\sklearn\\neural_network\\_multilayer_perceptron.py:684: ConvergenceWarning: Stochastic Optimizer: Maximum iterations (200) reached and the optimization hasn't converged yet.\n",
      "  warnings.warn(\n",
      "C:\\Users\\bi4372\\.conda\\envs\\pywatts-pipeline\\lib\\site-packages\\sklearn\\neural_network\\_multilayer_perceptron.py:684: ConvergenceWarning: Stochastic Optimizer: Maximum iterations (200) reached and the optimization hasn't converged yet.\n",
      "  warnings.warn(\n",
      "C:\\Users\\bi4372\\.conda\\envs\\pywatts-pipeline\\lib\\site-packages\\sklearn\\neural_network\\_multilayer_perceptron.py:684: ConvergenceWarning: Stochastic Optimizer: Maximum iterations (200) reached and the optimization hasn't converged yet.\n",
      "  warnings.warn(\n",
      "C:\\Users\\bi4372\\.conda\\envs\\pywatts-pipeline\\lib\\site-packages\\sklearn\\neural_network\\_multilayer_perceptron.py:684: ConvergenceWarning: Stochastic Optimizer: Maximum iterations (200) reached and the optimization hasn't converged yet.\n",
      "  warnings.warn(\n",
      "C:\\Users\\bi4372\\.conda\\envs\\pywatts-pipeline\\lib\\site-packages\\sklearn\\neural_network\\_multilayer_perceptron.py:684: ConvergenceWarning: Stochastic Optimizer: Maximum iterations (200) reached and the optimization hasn't converged yet.\n",
      "  warnings.warn(\n",
      "C:\\Users\\bi4372\\.conda\\envs\\pywatts-pipeline\\lib\\site-packages\\sklearn\\neural_network\\_multilayer_perceptron.py:684: ConvergenceWarning: Stochastic Optimizer: Maximum iterations (200) reached and the optimization hasn't converged yet.\n",
      "  warnings.warn(\n",
      "C:\\Users\\bi4372\\.conda\\envs\\pywatts-pipeline\\lib\\site-packages\\sklearn\\neural_network\\_multilayer_perceptron.py:684: ConvergenceWarning: Stochastic Optimizer: Maximum iterations (200) reached and the optimization hasn't converged yet.\n",
      "  warnings.warn(\n",
      "C:\\Users\\bi4372\\.conda\\envs\\pywatts-pipeline\\lib\\site-packages\\sklearn\\neural_network\\_multilayer_perceptron.py:684: ConvergenceWarning: Stochastic Optimizer: Maximum iterations (200) reached and the optimization hasn't converged yet.\n",
      "  warnings.warn(\n",
      "C:\\Users\\bi4372\\.conda\\envs\\pywatts-pipeline\\lib\\site-packages\\sklearn\\neural_network\\_multilayer_perceptron.py:684: ConvergenceWarning: Stochastic Optimizer: Maximum iterations (200) reached and the optimization hasn't converged yet.\n",
      "  warnings.warn(\n",
      "C:\\Users\\bi4372\\.conda\\envs\\pywatts-pipeline\\lib\\site-packages\\sklearn\\neural_network\\_multilayer_perceptron.py:684: ConvergenceWarning: Stochastic Optimizer: Maximum iterations (200) reached and the optimization hasn't converged yet.\n",
      "  warnings.warn(\n",
      "C:\\Users\\bi4372\\.conda\\envs\\pywatts-pipeline\\lib\\site-packages\\sklearn\\neural_network\\_multilayer_perceptron.py:684: ConvergenceWarning: Stochastic Optimizer: Maximum iterations (200) reached and the optimization hasn't converged yet.\n",
      "  warnings.warn(\n",
      "C:\\Users\\bi4372\\.conda\\envs\\pywatts-pipeline\\lib\\site-packages\\sklearn\\neural_network\\_multilayer_perceptron.py:684: ConvergenceWarning: Stochastic Optimizer: Maximum iterations (200) reached and the optimization hasn't converged yet.\n",
      "  warnings.warn(\n",
      "C:\\Users\\bi4372\\.conda\\envs\\pywatts-pipeline\\lib\\site-packages\\sklearn\\neural_network\\_multilayer_perceptron.py:684: ConvergenceWarning: Stochastic Optimizer: Maximum iterations (200) reached and the optimization hasn't converged yet.\n",
      "  warnings.warn(\n",
      "C:\\Users\\bi4372\\.conda\\envs\\pywatts-pipeline\\lib\\site-packages\\sklearn\\neural_network\\_multilayer_perceptron.py:684: ConvergenceWarning: Stochastic Optimizer: Maximum iterations (200) reached and the optimization hasn't converged yet.\n",
      "  warnings.warn(\n"
     ]
    },
    {
     "data": {
      "text/plain": "GridSearchCV(cv=TimeSeriesSplit(gap=0, max_train_size=None, n_splits=5, test_size=672),\n             estimator=Pipeline(model_dict={1: CalendarExtraction(features=[<CalendarFeature.month: 2>,\n                                                                            <CalendarFeature.weekday: 11>,\n                                                                            <CalendarFeature.weekend: 21>]),\n                                            2: Select(start=0, step=1, stop=24),\n                                            3: Select(start=0, step=1, stop=48),\n                                            4: SKLearnWrapper(module=StandardScaler()),\n                                            5: SKLearnW...\n                                                 <CalendarFeature.weekend: 21>],\n                                                [<CalendarFeature.hour_cos: 10>,\n                                                 <CalendarFeature.hour_sine: 9>,\n                                                 <CalendarFeature.weekend: 21>]],\n                         'load_forecast__module': [LinearRegression(),\n                                                   MLPRegressor()],\n                         'price_forecast__module': [LinearRegression(),\n                                                    MLPRegressor()],\n                         'scaler_power__module': [MinMaxScaler(),\n                                                  StandardScaler()],\n                         'scaler_price__module': [MinMaxScaler(),\n                                                  StandardScaler()]})",
      "text/html": "<style>#sk-container-id-2 {color: black;background-color: white;}#sk-container-id-2 pre{padding: 0;}#sk-container-id-2 div.sk-toggleable {background-color: white;}#sk-container-id-2 label.sk-toggleable__label {cursor: pointer;display: block;width: 100%;margin-bottom: 0;padding: 0.3em;box-sizing: border-box;text-align: center;}#sk-container-id-2 label.sk-toggleable__label-arrow:before {content: \"▸\";float: left;margin-right: 0.25em;color: #696969;}#sk-container-id-2 label.sk-toggleable__label-arrow:hover:before {color: black;}#sk-container-id-2 div.sk-estimator:hover label.sk-toggleable__label-arrow:before {color: black;}#sk-container-id-2 div.sk-toggleable__content {max-height: 0;max-width: 0;overflow: hidden;text-align: left;background-color: #f0f8ff;}#sk-container-id-2 div.sk-toggleable__content pre {margin: 0.2em;color: black;border-radius: 0.25em;background-color: #f0f8ff;}#sk-container-id-2 input.sk-toggleable__control:checked~div.sk-toggleable__content {max-height: 200px;max-width: 100%;overflow: auto;}#sk-container-id-2 input.sk-toggleable__control:checked~label.sk-toggleable__label-arrow:before {content: \"▾\";}#sk-container-id-2 div.sk-estimator input.sk-toggleable__control:checked~label.sk-toggleable__label {background-color: #d4ebff;}#sk-container-id-2 div.sk-label input.sk-toggleable__control:checked~label.sk-toggleable__label {background-color: #d4ebff;}#sk-container-id-2 input.sk-hidden--visually {border: 0;clip: rect(1px 1px 1px 1px);clip: rect(1px, 1px, 1px, 1px);height: 1px;margin: -1px;overflow: hidden;padding: 0;position: absolute;width: 1px;}#sk-container-id-2 div.sk-estimator {font-family: monospace;background-color: #f0f8ff;border: 1px dotted black;border-radius: 0.25em;box-sizing: border-box;margin-bottom: 0.5em;}#sk-container-id-2 div.sk-estimator:hover {background-color: #d4ebff;}#sk-container-id-2 div.sk-parallel-item::after {content: \"\";width: 100%;border-bottom: 1px solid gray;flex-grow: 1;}#sk-container-id-2 div.sk-label:hover label.sk-toggleable__label {background-color: #d4ebff;}#sk-container-id-2 div.sk-serial::before {content: \"\";position: absolute;border-left: 1px solid gray;box-sizing: border-box;top: 0;bottom: 0;left: 50%;z-index: 0;}#sk-container-id-2 div.sk-serial {display: flex;flex-direction: column;align-items: center;background-color: white;padding-right: 0.2em;padding-left: 0.2em;position: relative;}#sk-container-id-2 div.sk-item {position: relative;z-index: 1;}#sk-container-id-2 div.sk-parallel {display: flex;align-items: stretch;justify-content: center;background-color: white;position: relative;}#sk-container-id-2 div.sk-item::before, #sk-container-id-2 div.sk-parallel-item::before {content: \"\";position: absolute;border-left: 1px solid gray;box-sizing: border-box;top: 0;bottom: 0;left: 50%;z-index: -1;}#sk-container-id-2 div.sk-parallel-item {display: flex;flex-direction: column;z-index: 1;position: relative;background-color: white;}#sk-container-id-2 div.sk-parallel-item:first-child::after {align-self: flex-end;width: 50%;}#sk-container-id-2 div.sk-parallel-item:last-child::after {align-self: flex-start;width: 50%;}#sk-container-id-2 div.sk-parallel-item:only-child::after {width: 0;}#sk-container-id-2 div.sk-dashed-wrapped {border: 1px dashed gray;margin: 0 0.4em 0.5em 0.4em;box-sizing: border-box;padding-bottom: 0.4em;background-color: white;}#sk-container-id-2 div.sk-label label {font-family: monospace;font-weight: bold;display: inline-block;line-height: 1.2em;}#sk-container-id-2 div.sk-label-container {text-align: center;}#sk-container-id-2 div.sk-container {/* jupyter's `normalize.less` sets `[hidden] { display: none; }` but bootstrap.min.css set `[hidden] { display: none !important; }` so we also need the `!important` here to be able to override the default hidden behavior on the sphinx rendered scikit-learn.org. See: https://github.com/scikit-learn/scikit-learn/issues/21755 */display: inline-block !important;position: relative;}#sk-container-id-2 div.sk-text-repr-fallback {display: none;}</style><div id=\"sk-container-id-2\" class=\"sk-top-container\"><div class=\"sk-text-repr-fallback\"><pre>GridSearchCV(cv=TimeSeriesSplit(gap=0, max_train_size=None, n_splits=5, test_size=672),\n             estimator=Pipeline(model_dict={1: CalendarExtraction(features=[&lt;CalendarFeature.month: 2&gt;,\n                                                                            &lt;CalendarFeature.weekday: 11&gt;,\n                                                                            &lt;CalendarFeature.weekend: 21&gt;]),\n                                            2: Select(start=0, step=1, stop=24),\n                                            3: Select(start=0, step=1, stop=48),\n                                            4: SKLearnWrapper(module=StandardScaler()),\n                                            5: SKLearnW...\n                                                 &lt;CalendarFeature.weekend: 21&gt;],\n                                                [&lt;CalendarFeature.hour_cos: 10&gt;,\n                                                 &lt;CalendarFeature.hour_sine: 9&gt;,\n                                                 &lt;CalendarFeature.weekend: 21&gt;]],\n                         &#x27;load_forecast__module&#x27;: [LinearRegression(),\n                                                   MLPRegressor()],\n                         &#x27;price_forecast__module&#x27;: [LinearRegression(),\n                                                    MLPRegressor()],\n                         &#x27;scaler_power__module&#x27;: [MinMaxScaler(),\n                                                  StandardScaler()],\n                         &#x27;scaler_price__module&#x27;: [MinMaxScaler(),\n                                                  StandardScaler()]})</pre><b>In a Jupyter environment, please rerun this cell to show the HTML representation or trust the notebook. <br />On GitHub, the HTML representation is unable to render, please try loading this page with nbviewer.org.</b></div><div class=\"sk-container\" hidden><div class=\"sk-item sk-dashed-wrapped\"><div class=\"sk-label-container\"><div class=\"sk-label sk-toggleable\"><input class=\"sk-toggleable__control sk-hidden--visually\" id=\"sk-estimator-id-4\" type=\"checkbox\" ><label for=\"sk-estimator-id-4\" class=\"sk-toggleable__label sk-toggleable__label-arrow\">GridSearchCV</label><div class=\"sk-toggleable__content\"><pre>GridSearchCV(cv=TimeSeriesSplit(gap=0, max_train_size=None, n_splits=5, test_size=672),\n             estimator=Pipeline(model_dict={1: CalendarExtraction(features=[&lt;CalendarFeature.month: 2&gt;,\n                                                                            &lt;CalendarFeature.weekday: 11&gt;,\n                                                                            &lt;CalendarFeature.weekend: 21&gt;]),\n                                            2: Select(start=0, step=1, stop=24),\n                                            3: Select(start=0, step=1, stop=48),\n                                            4: SKLearnWrapper(module=StandardScaler()),\n                                            5: SKLearnW...\n                                                 &lt;CalendarFeature.weekend: 21&gt;],\n                                                [&lt;CalendarFeature.hour_cos: 10&gt;,\n                                                 &lt;CalendarFeature.hour_sine: 9&gt;,\n                                                 &lt;CalendarFeature.weekend: 21&gt;]],\n                         &#x27;load_forecast__module&#x27;: [LinearRegression(),\n                                                   MLPRegressor()],\n                         &#x27;price_forecast__module&#x27;: [LinearRegression(),\n                                                    MLPRegressor()],\n                         &#x27;scaler_power__module&#x27;: [MinMaxScaler(),\n                                                  StandardScaler()],\n                         &#x27;scaler_price__module&#x27;: [MinMaxScaler(),\n                                                  StandardScaler()]})</pre></div></div></div><div class=\"sk-parallel\"><div class=\"sk-parallel-item\"><div class=\"sk-item\"><div class=\"sk-label-container\"><div class=\"sk-label sk-toggleable\"><input class=\"sk-toggleable__control sk-hidden--visually\" id=\"sk-estimator-id-5\" type=\"checkbox\" ><label for=\"sk-estimator-id-5\" class=\"sk-toggleable__label sk-toggleable__label-arrow\">estimator: Pipeline</label><div class=\"sk-toggleable__content\"><pre>Pipeline(model_dict={1: CalendarExtraction(features=[&lt;CalendarFeature.month: 2&gt;,\n                                                     &lt;CalendarFeature.weekday: 11&gt;,\n                                                     &lt;CalendarFeature.weekend: 21&gt;]),\n                     2: Select(start=0, step=1, stop=24),\n                     3: Select(start=0, step=1, stop=48),\n                     4: SKLearnWrapper(module=StandardScaler()),\n                     5: SKLearnWrapper(module=StandardScaler()),\n                     6: Select(start=-24, step=1, stop=0),\n                     7: Select(start=-24, step=1, st...\n                  &#x27;computation_mode&#x27;: &lt;ComputationMode.Transform: 1&gt;,\n                  &#x27;condition&#x27;: None, &#x27;lag&#x27;: Timedelta(&#x27;0 days 00:00:00&#x27;),\n                  &#x27;method&#x27;: &#x27;inverse_transform&#x27;, &#x27;refit_conditions&#x27;: []}],\n                [14, &#x27;rmse&#x27;, {&#x27;y&#x27;: &#x27;target&#x27;, &#x27;y_hat&#x27;: &#x27;scaler_price_1&#x27;},\n                 {&#x27;callbacks&#x27;: [],\n                  &#x27;computation_mode&#x27;: &lt;ComputationMode.Default: 4&gt;,\n                  &#x27;condition&#x27;: None, &#x27;lag&#x27;: Timedelta(&#x27;0 days 00:00:00&#x27;),\n                  &#x27;method&#x27;: None, &#x27;refit_conditions&#x27;: []}]])</pre></div></div></div><div class=\"sk-serial\"><div class=\"sk-item\"><div class=\"sk-estimator sk-toggleable\"><input class=\"sk-toggleable__control sk-hidden--visually\" id=\"sk-estimator-id-6\" type=\"checkbox\" ><label for=\"sk-estimator-id-6\" class=\"sk-toggleable__label sk-toggleable__label-arrow\">Pipeline</label><div class=\"sk-toggleable__content\"><pre>Pipeline(model_dict={1: CalendarExtraction(features=[&lt;CalendarFeature.month: 2&gt;,\n                                                     &lt;CalendarFeature.weekday: 11&gt;,\n                                                     &lt;CalendarFeature.weekend: 21&gt;]),\n                     2: Select(start=0, step=1, stop=24),\n                     3: Select(start=0, step=1, stop=48),\n                     4: SKLearnWrapper(module=StandardScaler()),\n                     5: SKLearnWrapper(module=StandardScaler()),\n                     6: Select(start=-24, step=1, stop=0),\n                     7: Select(start=-24, step=1, st...\n                  &#x27;computation_mode&#x27;: &lt;ComputationMode.Transform: 1&gt;,\n                  &#x27;condition&#x27;: None, &#x27;lag&#x27;: Timedelta(&#x27;0 days 00:00:00&#x27;),\n                  &#x27;method&#x27;: &#x27;inverse_transform&#x27;, &#x27;refit_conditions&#x27;: []}],\n                [14, &#x27;rmse&#x27;, {&#x27;y&#x27;: &#x27;target&#x27;, &#x27;y_hat&#x27;: &#x27;scaler_price_1&#x27;},\n                 {&#x27;callbacks&#x27;: [],\n                  &#x27;computation_mode&#x27;: &lt;ComputationMode.Default: 4&gt;,\n                  &#x27;condition&#x27;: None, &#x27;lag&#x27;: Timedelta(&#x27;0 days 00:00:00&#x27;),\n                  &#x27;method&#x27;: None, &#x27;refit_conditions&#x27;: []}]])</pre></div></div></div></div></div></div></div></div></div></div>"
     },
     "execution_count": 12,
     "metadata": {},
     "output_type": "execute_result"
    }
   ],
   "source": [
    "from sklearn.model_selection import TimeSeriesSplit\n",
    "tscv = TimeSeriesSplit(test_size=168*4)\n",
    "pipeline_cv = GridSearchCV(pipeline, param_grid=params, cv=tscv)\n",
    "pipeline_cv.fit(data)"
   ],
   "metadata": {
    "collapsed": false
   }
  },
  {
   "cell_type": "code",
   "execution_count": 13,
   "outputs": [
    {
     "data": {
      "text/plain": "{'calendar__features': [<CalendarFeature.month_cos: 4>,\n  <CalendarFeature.month_sine: 3>,\n  <CalendarFeature.weekend: 21>],\n 'load_forecast__module': LinearRegression(),\n 'price_forecast__module': LinearRegression(),\n 'scaler_power__module': MinMaxScaler(),\n 'scaler_price__module': MinMaxScaler()}"
     },
     "execution_count": 13,
     "metadata": {},
     "output_type": "execute_result"
    }
   ],
   "source": [
    "pipeline_cv.best_params_"
   ],
   "metadata": {
    "collapsed": false
   }
  },
  {
   "cell_type": "code",
   "execution_count": 14,
   "outputs": [
    {
     "data": {
      "text/plain": "    mean_fit_time  std_fit_time  mean_score_time  std_score_time  \\\n0        1.095976      0.175444         1.283085        0.185376   \n1        0.907825      0.032746         1.241801        0.257661   \n2        0.914369      0.091208         1.088443        0.042501   \n3        0.900442      0.066367         1.086463        0.045719   \n4        2.436155      0.205387         1.149775        0.081855   \n5       12.690692      4.006184         1.118261        0.081401   \n6        2.649727      0.167046         1.155497        0.025594   \n7       12.161681      3.284225         1.197727        0.071062   \n8        2.874050      0.277515         1.155328        0.045370   \n9        2.864568      0.320775         1.152309        0.037033   \n10       8.095741      1.618198         1.178927        0.079782   \n11       8.937104      1.191385         1.185105        0.128859   \n12       4.805062      0.928563         1.117701        0.038472   \n13      15.274118      3.475216         1.194627        0.067110   \n14      10.599840      1.531037         1.259573        0.121656   \n15      22.216859      5.337527         1.186919        0.059531   \n16       0.932803      0.046671         1.139809        0.033993   \n17       0.899361      0.045097         1.155699        0.126291   \n18       0.919832      0.042784         1.089618        0.039720   \n19       0.871649      0.073662         1.099016        0.047687   \n20       2.565241      0.335915         1.108009        0.078565   \n21      14.067936      4.199355         1.169411        0.070650   \n22       2.940535      0.444679         1.230722        0.050560   \n23      15.969359      2.460955         1.234302        0.062203   \n24       3.058520      0.373955         1.237411        0.179462   \n25       3.134619      0.472990         1.128448        0.061251   \n26       7.972083      1.718928         1.153636        0.050670   \n27       8.027476      2.815940         1.134330        0.051782   \n28       4.693562      0.530197         1.262139        0.189552   \n29      17.060025      4.546862         1.191627        0.034640   \n30      11.117338      1.111346         1.181366        0.054565   \n31      21.448853      5.457506         1.180894        0.069512   \n\n                             param_calendar__features  \\\n0   [CalendarFeature.month_cos, CalendarFeature.mo...   \n1   [CalendarFeature.month_cos, CalendarFeature.mo...   \n2   [CalendarFeature.month_cos, CalendarFeature.mo...   \n3   [CalendarFeature.month_cos, CalendarFeature.mo...   \n4   [CalendarFeature.month_cos, CalendarFeature.mo...   \n5   [CalendarFeature.month_cos, CalendarFeature.mo...   \n6   [CalendarFeature.month_cos, CalendarFeature.mo...   \n7   [CalendarFeature.month_cos, CalendarFeature.mo...   \n8   [CalendarFeature.month_cos, CalendarFeature.mo...   \n9   [CalendarFeature.month_cos, CalendarFeature.mo...   \n10  [CalendarFeature.month_cos, CalendarFeature.mo...   \n11  [CalendarFeature.month_cos, CalendarFeature.mo...   \n12  [CalendarFeature.month_cos, CalendarFeature.mo...   \n13  [CalendarFeature.month_cos, CalendarFeature.mo...   \n14  [CalendarFeature.month_cos, CalendarFeature.mo...   \n15  [CalendarFeature.month_cos, CalendarFeature.mo...   \n16  [CalendarFeature.hour_cos, CalendarFeature.hou...   \n17  [CalendarFeature.hour_cos, CalendarFeature.hou...   \n18  [CalendarFeature.hour_cos, CalendarFeature.hou...   \n19  [CalendarFeature.hour_cos, CalendarFeature.hou...   \n20  [CalendarFeature.hour_cos, CalendarFeature.hou...   \n21  [CalendarFeature.hour_cos, CalendarFeature.hou...   \n22  [CalendarFeature.hour_cos, CalendarFeature.hou...   \n23  [CalendarFeature.hour_cos, CalendarFeature.hou...   \n24  [CalendarFeature.hour_cos, CalendarFeature.hou...   \n25  [CalendarFeature.hour_cos, CalendarFeature.hou...   \n26  [CalendarFeature.hour_cos, CalendarFeature.hou...   \n27  [CalendarFeature.hour_cos, CalendarFeature.hou...   \n28  [CalendarFeature.hour_cos, CalendarFeature.hou...   \n29  [CalendarFeature.hour_cos, CalendarFeature.hou...   \n30  [CalendarFeature.hour_cos, CalendarFeature.hou...   \n31  [CalendarFeature.hour_cos, CalendarFeature.hou...   \n\n   param_load_forecast__module param_price_forecast__module  \\\n0           LinearRegression()           LinearRegression()   \n1           LinearRegression()           LinearRegression()   \n2           LinearRegression()           LinearRegression()   \n3           LinearRegression()           LinearRegression()   \n4           LinearRegression()               MLPRegressor()   \n5           LinearRegression()               MLPRegressor()   \n6           LinearRegression()               MLPRegressor()   \n7           LinearRegression()               MLPRegressor()   \n8               MLPRegressor()           LinearRegression()   \n9               MLPRegressor()           LinearRegression()   \n10              MLPRegressor()           LinearRegression()   \n11              MLPRegressor()           LinearRegression()   \n12              MLPRegressor()               MLPRegressor()   \n13              MLPRegressor()               MLPRegressor()   \n14              MLPRegressor()               MLPRegressor()   \n15              MLPRegressor()               MLPRegressor()   \n16          LinearRegression()           LinearRegression()   \n17          LinearRegression()           LinearRegression()   \n18          LinearRegression()           LinearRegression()   \n19          LinearRegression()           LinearRegression()   \n20          LinearRegression()               MLPRegressor()   \n21          LinearRegression()               MLPRegressor()   \n22          LinearRegression()               MLPRegressor()   \n23          LinearRegression()               MLPRegressor()   \n24              MLPRegressor()           LinearRegression()   \n25              MLPRegressor()           LinearRegression()   \n26              MLPRegressor()           LinearRegression()   \n27              MLPRegressor()           LinearRegression()   \n28              MLPRegressor()               MLPRegressor()   \n29              MLPRegressor()               MLPRegressor()   \n30              MLPRegressor()               MLPRegressor()   \n31              MLPRegressor()               MLPRegressor()   \n\n   param_scaler_power__module param_scaler_price__module  \\\n0              MinMaxScaler()             MinMaxScaler()   \n1              MinMaxScaler()           StandardScaler()   \n2            StandardScaler()             MinMaxScaler()   \n3            StandardScaler()           StandardScaler()   \n4              MinMaxScaler()             MinMaxScaler()   \n5              MinMaxScaler()           StandardScaler()   \n6            StandardScaler()             MinMaxScaler()   \n7            StandardScaler()           StandardScaler()   \n8              MinMaxScaler()             MinMaxScaler()   \n9              MinMaxScaler()           StandardScaler()   \n10           StandardScaler()             MinMaxScaler()   \n11           StandardScaler()           StandardScaler()   \n12             MinMaxScaler()             MinMaxScaler()   \n13             MinMaxScaler()           StandardScaler()   \n14           StandardScaler()             MinMaxScaler()   \n15           StandardScaler()           StandardScaler()   \n16             MinMaxScaler()             MinMaxScaler()   \n17             MinMaxScaler()           StandardScaler()   \n18           StandardScaler()             MinMaxScaler()   \n19           StandardScaler()           StandardScaler()   \n20             MinMaxScaler()             MinMaxScaler()   \n21             MinMaxScaler()           StandardScaler()   \n22           StandardScaler()             MinMaxScaler()   \n23           StandardScaler()           StandardScaler()   \n24             MinMaxScaler()             MinMaxScaler()   \n25             MinMaxScaler()           StandardScaler()   \n26           StandardScaler()             MinMaxScaler()   \n27           StandardScaler()           StandardScaler()   \n28             MinMaxScaler()             MinMaxScaler()   \n29             MinMaxScaler()           StandardScaler()   \n30           StandardScaler()             MinMaxScaler()   \n31           StandardScaler()           StandardScaler()   \n\n                                               params  split0_test_score  \\\n0   {'calendar__features': [CalendarFeature.month_...          -6.256721   \n1   {'calendar__features': [CalendarFeature.month_...          -6.259465   \n2   {'calendar__features': [CalendarFeature.month_...          -6.259287   \n3   {'calendar__features': [CalendarFeature.month_...          -6.260751   \n4   {'calendar__features': [CalendarFeature.month_...         -12.600532   \n5   {'calendar__features': [CalendarFeature.month_...         -10.861537   \n6   {'calendar__features': [CalendarFeature.month_...         -11.089482   \n7   {'calendar__features': [CalendarFeature.month_...         -10.806261   \n8   {'calendar__features': [CalendarFeature.month_...          -8.953317   \n9   {'calendar__features': [CalendarFeature.month_...          -7.939068   \n10  {'calendar__features': [CalendarFeature.month_...          -7.037839   \n11  {'calendar__features': [CalendarFeature.month_...          -7.013150   \n12  {'calendar__features': [CalendarFeature.month_...         -13.485561   \n13  {'calendar__features': [CalendarFeature.month_...         -11.122142   \n14  {'calendar__features': [CalendarFeature.month_...         -15.451326   \n15  {'calendar__features': [CalendarFeature.month_...          -9.706312   \n16  {'calendar__features': [CalendarFeature.hour_c...          -8.585502   \n17  {'calendar__features': [CalendarFeature.hour_c...          -8.589372   \n18  {'calendar__features': [CalendarFeature.hour_c...          -8.496151   \n19  {'calendar__features': [CalendarFeature.hour_c...          -8.496737   \n20  {'calendar__features': [CalendarFeature.hour_c...          -9.868886   \n21  {'calendar__features': [CalendarFeature.hour_c...          -8.110757   \n22  {'calendar__features': [CalendarFeature.hour_c...         -10.251618   \n23  {'calendar__features': [CalendarFeature.hour_c...          -7.673445   \n24  {'calendar__features': [CalendarFeature.hour_c...          -8.501656   \n25  {'calendar__features': [CalendarFeature.hour_c...          -8.501030   \n26  {'calendar__features': [CalendarFeature.hour_c...          -8.545941   \n27  {'calendar__features': [CalendarFeature.hour_c...          -8.492990   \n28  {'calendar__features': [CalendarFeature.hour_c...         -10.822609   \n29  {'calendar__features': [CalendarFeature.hour_c...         -10.055991   \n30  {'calendar__features': [CalendarFeature.hour_c...         -10.721059   \n31  {'calendar__features': [CalendarFeature.hour_c...          -7.917761   \n\n    split1_test_score  split2_test_score  split3_test_score  \\\n0          -14.143013         -11.909271         -10.510416   \n1          -14.144792         -11.908073         -10.514330   \n2          -14.141893         -11.909574         -10.515821   \n3          -14.141737         -11.909581         -10.513772   \n4          -17.425032         -14.300181         -14.031630   \n5          -14.382651         -15.372472         -19.809067   \n6          -17.461229         -16.643316         -15.296120   \n7          -13.533408         -14.823279         -16.977639   \n8          -14.224443         -12.451935         -12.102103   \n9          -14.420280         -12.089059         -11.991292   \n10         -13.567743         -11.726679         -11.339489   \n11         -13.637580         -11.737129         -11.197689   \n12         -18.596688         -15.328875         -14.545923   \n13         -14.291854         -16.905452         -18.084809   \n14         -16.456283         -14.954652         -15.157787   \n15         -14.539345         -15.238804         -19.371207   \n16         -14.117542         -11.724974         -11.316657   \n17         -14.117494         -12.068522         -11.304756   \n18         -14.115750         -12.639181         -11.307009   \n19         -15.355167         -11.684246         -11.290068   \n20         -15.796705         -13.376361         -12.744028   \n21         -15.328514         -12.394573         -11.615687   \n22         -16.423195         -13.579821         -12.795361   \n23         -14.516399         -12.545145         -13.191909   \n24         -14.106737         -11.740443         -10.959362   \n25         -14.212254         -11.723889         -10.752451   \n26         -14.037982         -11.844804         -10.588172   \n27         -14.101235         -11.679864         -10.611370   \n28         -17.903052         -13.476839         -13.253146   \n29         -14.694311         -12.938076         -11.587079   \n30         -15.638823         -13.575748         -12.223040   \n31         -13.762790         -11.795887         -13.835400   \n\n    split4_test_score  mean_test_score  std_test_score  rank_test_score  \n0          -13.983219       -11.360528        2.887677                1  \n1          -13.983064       -11.361945        2.886746                4  \n2          -13.982501       -11.361815        2.886117                3  \n3          -13.982564       -11.361681        2.885702                2  \n4          -15.834667       -14.838408        1.651171               27  \n5          -14.475750       -14.980295        2.865196               28  \n6          -16.352356       -15.368501        2.248905               30  \n7          -14.643222       -14.156762        2.012593               24  \n8          -14.914440       -12.529248        2.075502               18  \n9          -14.066967       -12.101333        2.305556               15  \n10         -14.158403       -11.566030        2.502355                6  \n11         -13.965440       -11.510198        2.487029                5  \n12         -16.327547       -15.656919        1.740615               31  \n13         -15.271035       -15.135059        2.394506               29  \n14         -17.854661       -15.974942        1.072189               32  \n15         -14.267616       -14.624657        3.073493               26  \n16         -13.558908       -11.860717        1.950311                9  \n17         -13.540047       -11.924038        1.946644               12  \n18         -13.765407       -12.064700        2.036560               13  \n19         -13.542688       -12.073781        2.301581               14  \n20         -15.515933       -13.460383        2.149547               21  \n21         -14.554614       -12.400829        2.538950               16  \n22         -16.153407       -13.840680        2.282989               23  \n23         -15.389784       -12.663336        2.685507               19  \n24         -14.039465       -11.869533        2.092910               10  \n25         -14.337173       -11.905359        2.199412               11  \n26         -13.949829       -11.793345        2.082765                8  \n27         -13.898320       -11.756756        2.100137                7  \n28         -15.509541       -14.193037        2.377121               25  \n29         -14.810340       -12.817160        1.824732               20  \n30         -15.894726       -13.610679        1.980248               22  \n31         -15.295594       -12.521486        2.556703               17  ",
      "text/html": "<div>\n<style scoped>\n    .dataframe tbody tr th:only-of-type {\n        vertical-align: middle;\n    }\n\n    .dataframe tbody tr th {\n        vertical-align: top;\n    }\n\n    .dataframe thead th {\n        text-align: right;\n    }\n</style>\n<table border=\"1\" class=\"dataframe\">\n  <thead>\n    <tr style=\"text-align: right;\">\n      <th></th>\n      <th>mean_fit_time</th>\n      <th>std_fit_time</th>\n      <th>mean_score_time</th>\n      <th>std_score_time</th>\n      <th>param_calendar__features</th>\n      <th>param_load_forecast__module</th>\n      <th>param_price_forecast__module</th>\n      <th>param_scaler_power__module</th>\n      <th>param_scaler_price__module</th>\n      <th>params</th>\n      <th>split0_test_score</th>\n      <th>split1_test_score</th>\n      <th>split2_test_score</th>\n      <th>split3_test_score</th>\n      <th>split4_test_score</th>\n      <th>mean_test_score</th>\n      <th>std_test_score</th>\n      <th>rank_test_score</th>\n    </tr>\n  </thead>\n  <tbody>\n    <tr>\n      <th>0</th>\n      <td>1.095976</td>\n      <td>0.175444</td>\n      <td>1.283085</td>\n      <td>0.185376</td>\n      <td>[CalendarFeature.month_cos, CalendarFeature.mo...</td>\n      <td>LinearRegression()</td>\n      <td>LinearRegression()</td>\n      <td>MinMaxScaler()</td>\n      <td>MinMaxScaler()</td>\n      <td>{'calendar__features': [CalendarFeature.month_...</td>\n      <td>-6.256721</td>\n      <td>-14.143013</td>\n      <td>-11.909271</td>\n      <td>-10.510416</td>\n      <td>-13.983219</td>\n      <td>-11.360528</td>\n      <td>2.887677</td>\n      <td>1</td>\n    </tr>\n    <tr>\n      <th>1</th>\n      <td>0.907825</td>\n      <td>0.032746</td>\n      <td>1.241801</td>\n      <td>0.257661</td>\n      <td>[CalendarFeature.month_cos, CalendarFeature.mo...</td>\n      <td>LinearRegression()</td>\n      <td>LinearRegression()</td>\n      <td>MinMaxScaler()</td>\n      <td>StandardScaler()</td>\n      <td>{'calendar__features': [CalendarFeature.month_...</td>\n      <td>-6.259465</td>\n      <td>-14.144792</td>\n      <td>-11.908073</td>\n      <td>-10.514330</td>\n      <td>-13.983064</td>\n      <td>-11.361945</td>\n      <td>2.886746</td>\n      <td>4</td>\n    </tr>\n    <tr>\n      <th>2</th>\n      <td>0.914369</td>\n      <td>0.091208</td>\n      <td>1.088443</td>\n      <td>0.042501</td>\n      <td>[CalendarFeature.month_cos, CalendarFeature.mo...</td>\n      <td>LinearRegression()</td>\n      <td>LinearRegression()</td>\n      <td>StandardScaler()</td>\n      <td>MinMaxScaler()</td>\n      <td>{'calendar__features': [CalendarFeature.month_...</td>\n      <td>-6.259287</td>\n      <td>-14.141893</td>\n      <td>-11.909574</td>\n      <td>-10.515821</td>\n      <td>-13.982501</td>\n      <td>-11.361815</td>\n      <td>2.886117</td>\n      <td>3</td>\n    </tr>\n    <tr>\n      <th>3</th>\n      <td>0.900442</td>\n      <td>0.066367</td>\n      <td>1.086463</td>\n      <td>0.045719</td>\n      <td>[CalendarFeature.month_cos, CalendarFeature.mo...</td>\n      <td>LinearRegression()</td>\n      <td>LinearRegression()</td>\n      <td>StandardScaler()</td>\n      <td>StandardScaler()</td>\n      <td>{'calendar__features': [CalendarFeature.month_...</td>\n      <td>-6.260751</td>\n      <td>-14.141737</td>\n      <td>-11.909581</td>\n      <td>-10.513772</td>\n      <td>-13.982564</td>\n      <td>-11.361681</td>\n      <td>2.885702</td>\n      <td>2</td>\n    </tr>\n    <tr>\n      <th>4</th>\n      <td>2.436155</td>\n      <td>0.205387</td>\n      <td>1.149775</td>\n      <td>0.081855</td>\n      <td>[CalendarFeature.month_cos, CalendarFeature.mo...</td>\n      <td>LinearRegression()</td>\n      <td>MLPRegressor()</td>\n      <td>MinMaxScaler()</td>\n      <td>MinMaxScaler()</td>\n      <td>{'calendar__features': [CalendarFeature.month_...</td>\n      <td>-12.600532</td>\n      <td>-17.425032</td>\n      <td>-14.300181</td>\n      <td>-14.031630</td>\n      <td>-15.834667</td>\n      <td>-14.838408</td>\n      <td>1.651171</td>\n      <td>27</td>\n    </tr>\n    <tr>\n      <th>5</th>\n      <td>12.690692</td>\n      <td>4.006184</td>\n      <td>1.118261</td>\n      <td>0.081401</td>\n      <td>[CalendarFeature.month_cos, CalendarFeature.mo...</td>\n      <td>LinearRegression()</td>\n      <td>MLPRegressor()</td>\n      <td>MinMaxScaler()</td>\n      <td>StandardScaler()</td>\n      <td>{'calendar__features': [CalendarFeature.month_...</td>\n      <td>-10.861537</td>\n      <td>-14.382651</td>\n      <td>-15.372472</td>\n      <td>-19.809067</td>\n      <td>-14.475750</td>\n      <td>-14.980295</td>\n      <td>2.865196</td>\n      <td>28</td>\n    </tr>\n    <tr>\n      <th>6</th>\n      <td>2.649727</td>\n      <td>0.167046</td>\n      <td>1.155497</td>\n      <td>0.025594</td>\n      <td>[CalendarFeature.month_cos, CalendarFeature.mo...</td>\n      <td>LinearRegression()</td>\n      <td>MLPRegressor()</td>\n      <td>StandardScaler()</td>\n      <td>MinMaxScaler()</td>\n      <td>{'calendar__features': [CalendarFeature.month_...</td>\n      <td>-11.089482</td>\n      <td>-17.461229</td>\n      <td>-16.643316</td>\n      <td>-15.296120</td>\n      <td>-16.352356</td>\n      <td>-15.368501</td>\n      <td>2.248905</td>\n      <td>30</td>\n    </tr>\n    <tr>\n      <th>7</th>\n      <td>12.161681</td>\n      <td>3.284225</td>\n      <td>1.197727</td>\n      <td>0.071062</td>\n      <td>[CalendarFeature.month_cos, CalendarFeature.mo...</td>\n      <td>LinearRegression()</td>\n      <td>MLPRegressor()</td>\n      <td>StandardScaler()</td>\n      <td>StandardScaler()</td>\n      <td>{'calendar__features': [CalendarFeature.month_...</td>\n      <td>-10.806261</td>\n      <td>-13.533408</td>\n      <td>-14.823279</td>\n      <td>-16.977639</td>\n      <td>-14.643222</td>\n      <td>-14.156762</td>\n      <td>2.012593</td>\n      <td>24</td>\n    </tr>\n    <tr>\n      <th>8</th>\n      <td>2.874050</td>\n      <td>0.277515</td>\n      <td>1.155328</td>\n      <td>0.045370</td>\n      <td>[CalendarFeature.month_cos, CalendarFeature.mo...</td>\n      <td>MLPRegressor()</td>\n      <td>LinearRegression()</td>\n      <td>MinMaxScaler()</td>\n      <td>MinMaxScaler()</td>\n      <td>{'calendar__features': [CalendarFeature.month_...</td>\n      <td>-8.953317</td>\n      <td>-14.224443</td>\n      <td>-12.451935</td>\n      <td>-12.102103</td>\n      <td>-14.914440</td>\n      <td>-12.529248</td>\n      <td>2.075502</td>\n      <td>18</td>\n    </tr>\n    <tr>\n      <th>9</th>\n      <td>2.864568</td>\n      <td>0.320775</td>\n      <td>1.152309</td>\n      <td>0.037033</td>\n      <td>[CalendarFeature.month_cos, CalendarFeature.mo...</td>\n      <td>MLPRegressor()</td>\n      <td>LinearRegression()</td>\n      <td>MinMaxScaler()</td>\n      <td>StandardScaler()</td>\n      <td>{'calendar__features': [CalendarFeature.month_...</td>\n      <td>-7.939068</td>\n      <td>-14.420280</td>\n      <td>-12.089059</td>\n      <td>-11.991292</td>\n      <td>-14.066967</td>\n      <td>-12.101333</td>\n      <td>2.305556</td>\n      <td>15</td>\n    </tr>\n    <tr>\n      <th>10</th>\n      <td>8.095741</td>\n      <td>1.618198</td>\n      <td>1.178927</td>\n      <td>0.079782</td>\n      <td>[CalendarFeature.month_cos, CalendarFeature.mo...</td>\n      <td>MLPRegressor()</td>\n      <td>LinearRegression()</td>\n      <td>StandardScaler()</td>\n      <td>MinMaxScaler()</td>\n      <td>{'calendar__features': [CalendarFeature.month_...</td>\n      <td>-7.037839</td>\n      <td>-13.567743</td>\n      <td>-11.726679</td>\n      <td>-11.339489</td>\n      <td>-14.158403</td>\n      <td>-11.566030</td>\n      <td>2.502355</td>\n      <td>6</td>\n    </tr>\n    <tr>\n      <th>11</th>\n      <td>8.937104</td>\n      <td>1.191385</td>\n      <td>1.185105</td>\n      <td>0.128859</td>\n      <td>[CalendarFeature.month_cos, CalendarFeature.mo...</td>\n      <td>MLPRegressor()</td>\n      <td>LinearRegression()</td>\n      <td>StandardScaler()</td>\n      <td>StandardScaler()</td>\n      <td>{'calendar__features': [CalendarFeature.month_...</td>\n      <td>-7.013150</td>\n      <td>-13.637580</td>\n      <td>-11.737129</td>\n      <td>-11.197689</td>\n      <td>-13.965440</td>\n      <td>-11.510198</td>\n      <td>2.487029</td>\n      <td>5</td>\n    </tr>\n    <tr>\n      <th>12</th>\n      <td>4.805062</td>\n      <td>0.928563</td>\n      <td>1.117701</td>\n      <td>0.038472</td>\n      <td>[CalendarFeature.month_cos, CalendarFeature.mo...</td>\n      <td>MLPRegressor()</td>\n      <td>MLPRegressor()</td>\n      <td>MinMaxScaler()</td>\n      <td>MinMaxScaler()</td>\n      <td>{'calendar__features': [CalendarFeature.month_...</td>\n      <td>-13.485561</td>\n      <td>-18.596688</td>\n      <td>-15.328875</td>\n      <td>-14.545923</td>\n      <td>-16.327547</td>\n      <td>-15.656919</td>\n      <td>1.740615</td>\n      <td>31</td>\n    </tr>\n    <tr>\n      <th>13</th>\n      <td>15.274118</td>\n      <td>3.475216</td>\n      <td>1.194627</td>\n      <td>0.067110</td>\n      <td>[CalendarFeature.month_cos, CalendarFeature.mo...</td>\n      <td>MLPRegressor()</td>\n      <td>MLPRegressor()</td>\n      <td>MinMaxScaler()</td>\n      <td>StandardScaler()</td>\n      <td>{'calendar__features': [CalendarFeature.month_...</td>\n      <td>-11.122142</td>\n      <td>-14.291854</td>\n      <td>-16.905452</td>\n      <td>-18.084809</td>\n      <td>-15.271035</td>\n      <td>-15.135059</td>\n      <td>2.394506</td>\n      <td>29</td>\n    </tr>\n    <tr>\n      <th>14</th>\n      <td>10.599840</td>\n      <td>1.531037</td>\n      <td>1.259573</td>\n      <td>0.121656</td>\n      <td>[CalendarFeature.month_cos, CalendarFeature.mo...</td>\n      <td>MLPRegressor()</td>\n      <td>MLPRegressor()</td>\n      <td>StandardScaler()</td>\n      <td>MinMaxScaler()</td>\n      <td>{'calendar__features': [CalendarFeature.month_...</td>\n      <td>-15.451326</td>\n      <td>-16.456283</td>\n      <td>-14.954652</td>\n      <td>-15.157787</td>\n      <td>-17.854661</td>\n      <td>-15.974942</td>\n      <td>1.072189</td>\n      <td>32</td>\n    </tr>\n    <tr>\n      <th>15</th>\n      <td>22.216859</td>\n      <td>5.337527</td>\n      <td>1.186919</td>\n      <td>0.059531</td>\n      <td>[CalendarFeature.month_cos, CalendarFeature.mo...</td>\n      <td>MLPRegressor()</td>\n      <td>MLPRegressor()</td>\n      <td>StandardScaler()</td>\n      <td>StandardScaler()</td>\n      <td>{'calendar__features': [CalendarFeature.month_...</td>\n      <td>-9.706312</td>\n      <td>-14.539345</td>\n      <td>-15.238804</td>\n      <td>-19.371207</td>\n      <td>-14.267616</td>\n      <td>-14.624657</td>\n      <td>3.073493</td>\n      <td>26</td>\n    </tr>\n    <tr>\n      <th>16</th>\n      <td>0.932803</td>\n      <td>0.046671</td>\n      <td>1.139809</td>\n      <td>0.033993</td>\n      <td>[CalendarFeature.hour_cos, CalendarFeature.hou...</td>\n      <td>LinearRegression()</td>\n      <td>LinearRegression()</td>\n      <td>MinMaxScaler()</td>\n      <td>MinMaxScaler()</td>\n      <td>{'calendar__features': [CalendarFeature.hour_c...</td>\n      <td>-8.585502</td>\n      <td>-14.117542</td>\n      <td>-11.724974</td>\n      <td>-11.316657</td>\n      <td>-13.558908</td>\n      <td>-11.860717</td>\n      <td>1.950311</td>\n      <td>9</td>\n    </tr>\n    <tr>\n      <th>17</th>\n      <td>0.899361</td>\n      <td>0.045097</td>\n      <td>1.155699</td>\n      <td>0.126291</td>\n      <td>[CalendarFeature.hour_cos, CalendarFeature.hou...</td>\n      <td>LinearRegression()</td>\n      <td>LinearRegression()</td>\n      <td>MinMaxScaler()</td>\n      <td>StandardScaler()</td>\n      <td>{'calendar__features': [CalendarFeature.hour_c...</td>\n      <td>-8.589372</td>\n      <td>-14.117494</td>\n      <td>-12.068522</td>\n      <td>-11.304756</td>\n      <td>-13.540047</td>\n      <td>-11.924038</td>\n      <td>1.946644</td>\n      <td>12</td>\n    </tr>\n    <tr>\n      <th>18</th>\n      <td>0.919832</td>\n      <td>0.042784</td>\n      <td>1.089618</td>\n      <td>0.039720</td>\n      <td>[CalendarFeature.hour_cos, CalendarFeature.hou...</td>\n      <td>LinearRegression()</td>\n      <td>LinearRegression()</td>\n      <td>StandardScaler()</td>\n      <td>MinMaxScaler()</td>\n      <td>{'calendar__features': [CalendarFeature.hour_c...</td>\n      <td>-8.496151</td>\n      <td>-14.115750</td>\n      <td>-12.639181</td>\n      <td>-11.307009</td>\n      <td>-13.765407</td>\n      <td>-12.064700</td>\n      <td>2.036560</td>\n      <td>13</td>\n    </tr>\n    <tr>\n      <th>19</th>\n      <td>0.871649</td>\n      <td>0.073662</td>\n      <td>1.099016</td>\n      <td>0.047687</td>\n      <td>[CalendarFeature.hour_cos, CalendarFeature.hou...</td>\n      <td>LinearRegression()</td>\n      <td>LinearRegression()</td>\n      <td>StandardScaler()</td>\n      <td>StandardScaler()</td>\n      <td>{'calendar__features': [CalendarFeature.hour_c...</td>\n      <td>-8.496737</td>\n      <td>-15.355167</td>\n      <td>-11.684246</td>\n      <td>-11.290068</td>\n      <td>-13.542688</td>\n      <td>-12.073781</td>\n      <td>2.301581</td>\n      <td>14</td>\n    </tr>\n    <tr>\n      <th>20</th>\n      <td>2.565241</td>\n      <td>0.335915</td>\n      <td>1.108009</td>\n      <td>0.078565</td>\n      <td>[CalendarFeature.hour_cos, CalendarFeature.hou...</td>\n      <td>LinearRegression()</td>\n      <td>MLPRegressor()</td>\n      <td>MinMaxScaler()</td>\n      <td>MinMaxScaler()</td>\n      <td>{'calendar__features': [CalendarFeature.hour_c...</td>\n      <td>-9.868886</td>\n      <td>-15.796705</td>\n      <td>-13.376361</td>\n      <td>-12.744028</td>\n      <td>-15.515933</td>\n      <td>-13.460383</td>\n      <td>2.149547</td>\n      <td>21</td>\n    </tr>\n    <tr>\n      <th>21</th>\n      <td>14.067936</td>\n      <td>4.199355</td>\n      <td>1.169411</td>\n      <td>0.070650</td>\n      <td>[CalendarFeature.hour_cos, CalendarFeature.hou...</td>\n      <td>LinearRegression()</td>\n      <td>MLPRegressor()</td>\n      <td>MinMaxScaler()</td>\n      <td>StandardScaler()</td>\n      <td>{'calendar__features': [CalendarFeature.hour_c...</td>\n      <td>-8.110757</td>\n      <td>-15.328514</td>\n      <td>-12.394573</td>\n      <td>-11.615687</td>\n      <td>-14.554614</td>\n      <td>-12.400829</td>\n      <td>2.538950</td>\n      <td>16</td>\n    </tr>\n    <tr>\n      <th>22</th>\n      <td>2.940535</td>\n      <td>0.444679</td>\n      <td>1.230722</td>\n      <td>0.050560</td>\n      <td>[CalendarFeature.hour_cos, CalendarFeature.hou...</td>\n      <td>LinearRegression()</td>\n      <td>MLPRegressor()</td>\n      <td>StandardScaler()</td>\n      <td>MinMaxScaler()</td>\n      <td>{'calendar__features': [CalendarFeature.hour_c...</td>\n      <td>-10.251618</td>\n      <td>-16.423195</td>\n      <td>-13.579821</td>\n      <td>-12.795361</td>\n      <td>-16.153407</td>\n      <td>-13.840680</td>\n      <td>2.282989</td>\n      <td>23</td>\n    </tr>\n    <tr>\n      <th>23</th>\n      <td>15.969359</td>\n      <td>2.460955</td>\n      <td>1.234302</td>\n      <td>0.062203</td>\n      <td>[CalendarFeature.hour_cos, CalendarFeature.hou...</td>\n      <td>LinearRegression()</td>\n      <td>MLPRegressor()</td>\n      <td>StandardScaler()</td>\n      <td>StandardScaler()</td>\n      <td>{'calendar__features': [CalendarFeature.hour_c...</td>\n      <td>-7.673445</td>\n      <td>-14.516399</td>\n      <td>-12.545145</td>\n      <td>-13.191909</td>\n      <td>-15.389784</td>\n      <td>-12.663336</td>\n      <td>2.685507</td>\n      <td>19</td>\n    </tr>\n    <tr>\n      <th>24</th>\n      <td>3.058520</td>\n      <td>0.373955</td>\n      <td>1.237411</td>\n      <td>0.179462</td>\n      <td>[CalendarFeature.hour_cos, CalendarFeature.hou...</td>\n      <td>MLPRegressor()</td>\n      <td>LinearRegression()</td>\n      <td>MinMaxScaler()</td>\n      <td>MinMaxScaler()</td>\n      <td>{'calendar__features': [CalendarFeature.hour_c...</td>\n      <td>-8.501656</td>\n      <td>-14.106737</td>\n      <td>-11.740443</td>\n      <td>-10.959362</td>\n      <td>-14.039465</td>\n      <td>-11.869533</td>\n      <td>2.092910</td>\n      <td>10</td>\n    </tr>\n    <tr>\n      <th>25</th>\n      <td>3.134619</td>\n      <td>0.472990</td>\n      <td>1.128448</td>\n      <td>0.061251</td>\n      <td>[CalendarFeature.hour_cos, CalendarFeature.hou...</td>\n      <td>MLPRegressor()</td>\n      <td>LinearRegression()</td>\n      <td>MinMaxScaler()</td>\n      <td>StandardScaler()</td>\n      <td>{'calendar__features': [CalendarFeature.hour_c...</td>\n      <td>-8.501030</td>\n      <td>-14.212254</td>\n      <td>-11.723889</td>\n      <td>-10.752451</td>\n      <td>-14.337173</td>\n      <td>-11.905359</td>\n      <td>2.199412</td>\n      <td>11</td>\n    </tr>\n    <tr>\n      <th>26</th>\n      <td>7.972083</td>\n      <td>1.718928</td>\n      <td>1.153636</td>\n      <td>0.050670</td>\n      <td>[CalendarFeature.hour_cos, CalendarFeature.hou...</td>\n      <td>MLPRegressor()</td>\n      <td>LinearRegression()</td>\n      <td>StandardScaler()</td>\n      <td>MinMaxScaler()</td>\n      <td>{'calendar__features': [CalendarFeature.hour_c...</td>\n      <td>-8.545941</td>\n      <td>-14.037982</td>\n      <td>-11.844804</td>\n      <td>-10.588172</td>\n      <td>-13.949829</td>\n      <td>-11.793345</td>\n      <td>2.082765</td>\n      <td>8</td>\n    </tr>\n    <tr>\n      <th>27</th>\n      <td>8.027476</td>\n      <td>2.815940</td>\n      <td>1.134330</td>\n      <td>0.051782</td>\n      <td>[CalendarFeature.hour_cos, CalendarFeature.hou...</td>\n      <td>MLPRegressor()</td>\n      <td>LinearRegression()</td>\n      <td>StandardScaler()</td>\n      <td>StandardScaler()</td>\n      <td>{'calendar__features': [CalendarFeature.hour_c...</td>\n      <td>-8.492990</td>\n      <td>-14.101235</td>\n      <td>-11.679864</td>\n      <td>-10.611370</td>\n      <td>-13.898320</td>\n      <td>-11.756756</td>\n      <td>2.100137</td>\n      <td>7</td>\n    </tr>\n    <tr>\n      <th>28</th>\n      <td>4.693562</td>\n      <td>0.530197</td>\n      <td>1.262139</td>\n      <td>0.189552</td>\n      <td>[CalendarFeature.hour_cos, CalendarFeature.hou...</td>\n      <td>MLPRegressor()</td>\n      <td>MLPRegressor()</td>\n      <td>MinMaxScaler()</td>\n      <td>MinMaxScaler()</td>\n      <td>{'calendar__features': [CalendarFeature.hour_c...</td>\n      <td>-10.822609</td>\n      <td>-17.903052</td>\n      <td>-13.476839</td>\n      <td>-13.253146</td>\n      <td>-15.509541</td>\n      <td>-14.193037</td>\n      <td>2.377121</td>\n      <td>25</td>\n    </tr>\n    <tr>\n      <th>29</th>\n      <td>17.060025</td>\n      <td>4.546862</td>\n      <td>1.191627</td>\n      <td>0.034640</td>\n      <td>[CalendarFeature.hour_cos, CalendarFeature.hou...</td>\n      <td>MLPRegressor()</td>\n      <td>MLPRegressor()</td>\n      <td>MinMaxScaler()</td>\n      <td>StandardScaler()</td>\n      <td>{'calendar__features': [CalendarFeature.hour_c...</td>\n      <td>-10.055991</td>\n      <td>-14.694311</td>\n      <td>-12.938076</td>\n      <td>-11.587079</td>\n      <td>-14.810340</td>\n      <td>-12.817160</td>\n      <td>1.824732</td>\n      <td>20</td>\n    </tr>\n    <tr>\n      <th>30</th>\n      <td>11.117338</td>\n      <td>1.111346</td>\n      <td>1.181366</td>\n      <td>0.054565</td>\n      <td>[CalendarFeature.hour_cos, CalendarFeature.hou...</td>\n      <td>MLPRegressor()</td>\n      <td>MLPRegressor()</td>\n      <td>StandardScaler()</td>\n      <td>MinMaxScaler()</td>\n      <td>{'calendar__features': [CalendarFeature.hour_c...</td>\n      <td>-10.721059</td>\n      <td>-15.638823</td>\n      <td>-13.575748</td>\n      <td>-12.223040</td>\n      <td>-15.894726</td>\n      <td>-13.610679</td>\n      <td>1.980248</td>\n      <td>22</td>\n    </tr>\n    <tr>\n      <th>31</th>\n      <td>21.448853</td>\n      <td>5.457506</td>\n      <td>1.180894</td>\n      <td>0.069512</td>\n      <td>[CalendarFeature.hour_cos, CalendarFeature.hou...</td>\n      <td>MLPRegressor()</td>\n      <td>MLPRegressor()</td>\n      <td>StandardScaler()</td>\n      <td>StandardScaler()</td>\n      <td>{'calendar__features': [CalendarFeature.hour_c...</td>\n      <td>-7.917761</td>\n      <td>-13.762790</td>\n      <td>-11.795887</td>\n      <td>-13.835400</td>\n      <td>-15.295594</td>\n      <td>-12.521486</td>\n      <td>2.556703</td>\n      <td>17</td>\n    </tr>\n  </tbody>\n</table>\n</div>"
     },
     "execution_count": 14,
     "metadata": {},
     "output_type": "execute_result"
    }
   ],
   "source": [
    "pd.DataFrame(pipeline_cv.cv_results_)"
   ],
   "metadata": {
    "collapsed": false
   }
  },
  {
   "cell_type": "code",
   "execution_count": 14,
   "outputs": [],
   "source": [],
   "metadata": {
    "collapsed": false
   }
  }
 ],
 "metadata": {
  "kernelspec": {
   "display_name": "Python 3",
   "language": "python",
   "name": "python3"
  },
  "language_info": {
   "codemirror_mode": {
    "name": "ipython",
    "version": 2
   },
   "file_extension": ".py",
   "mimetype": "text/x-python",
   "name": "python",
   "nbconvert_exporter": "python",
   "pygments_lexer": "ipython2",
   "version": "2.7.6"
  }
 },
 "nbformat": 4,
 "nbformat_minor": 0
}
